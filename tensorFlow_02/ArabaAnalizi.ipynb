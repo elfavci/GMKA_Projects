{
 "cells": [
  {
   "cell_type": "code",
   "execution_count": 1,
   "id": "e3667340",
   "metadata": {},
   "outputs": [],
   "source": [
    "import pandas as pd\n",
    "import numpy as np\n",
    "import matplotlib.pyplot as plt\n",
    "import seaborn as sbn"
   ]
  },
  {
   "cell_type": "code",
   "execution_count": 2,
   "id": "3e3f7795",
   "metadata": {},
   "outputs": [],
   "source": [
    "dataFrame = pd.read_excel(\"merc.xlsx\")"
   ]
  },
  {
   "cell_type": "code",
   "execution_count": 3,
   "id": "eefb1b78",
   "metadata": {},
   "outputs": [
    {
     "data": {
      "text/html": [
       "<div>\n",
       "<style scoped>\n",
       "    .dataframe tbody tr th:only-of-type {\n",
       "        vertical-align: middle;\n",
       "    }\n",
       "\n",
       "    .dataframe tbody tr th {\n",
       "        vertical-align: top;\n",
       "    }\n",
       "\n",
       "    .dataframe thead th {\n",
       "        text-align: right;\n",
       "    }\n",
       "</style>\n",
       "<table border=\"1\" class=\"dataframe\">\n",
       "  <thead>\n",
       "    <tr style=\"text-align: right;\">\n",
       "      <th></th>\n",
       "      <th>year</th>\n",
       "      <th>price</th>\n",
       "      <th>transmission</th>\n",
       "      <th>mileage</th>\n",
       "      <th>tax</th>\n",
       "      <th>mpg</th>\n",
       "      <th>engineSize</th>\n",
       "    </tr>\n",
       "  </thead>\n",
       "  <tbody>\n",
       "    <tr>\n",
       "      <th>0</th>\n",
       "      <td>2005</td>\n",
       "      <td>5200</td>\n",
       "      <td>Automatic</td>\n",
       "      <td>63000</td>\n",
       "      <td>325</td>\n",
       "      <td>32.1</td>\n",
       "      <td>1.8</td>\n",
       "    </tr>\n",
       "    <tr>\n",
       "      <th>1</th>\n",
       "      <td>2017</td>\n",
       "      <td>34948</td>\n",
       "      <td>Automatic</td>\n",
       "      <td>27000</td>\n",
       "      <td>20</td>\n",
       "      <td>61.4</td>\n",
       "      <td>2.1</td>\n",
       "    </tr>\n",
       "    <tr>\n",
       "      <th>2</th>\n",
       "      <td>2016</td>\n",
       "      <td>49948</td>\n",
       "      <td>Automatic</td>\n",
       "      <td>6200</td>\n",
       "      <td>555</td>\n",
       "      <td>28.0</td>\n",
       "      <td>5.5</td>\n",
       "    </tr>\n",
       "    <tr>\n",
       "      <th>3</th>\n",
       "      <td>2016</td>\n",
       "      <td>61948</td>\n",
       "      <td>Automatic</td>\n",
       "      <td>16000</td>\n",
       "      <td>325</td>\n",
       "      <td>30.4</td>\n",
       "      <td>4.0</td>\n",
       "    </tr>\n",
       "    <tr>\n",
       "      <th>4</th>\n",
       "      <td>2016</td>\n",
       "      <td>73948</td>\n",
       "      <td>Automatic</td>\n",
       "      <td>4000</td>\n",
       "      <td>325</td>\n",
       "      <td>30.1</td>\n",
       "      <td>4.0</td>\n",
       "    </tr>\n",
       "  </tbody>\n",
       "</table>\n",
       "</div>"
      ],
      "text/plain": [
       "   year  price transmission  mileage  tax   mpg  engineSize\n",
       "0  2005   5200    Automatic    63000  325  32.1         1.8\n",
       "1  2017  34948    Automatic    27000   20  61.4         2.1\n",
       "2  2016  49948    Automatic     6200  555  28.0         5.5\n",
       "3  2016  61948    Automatic    16000  325  30.4         4.0\n",
       "4  2016  73948    Automatic     4000  325  30.1         4.0"
      ]
     },
     "execution_count": 3,
     "metadata": {},
     "output_type": "execute_result"
    }
   ],
   "source": [
    "dataFrame.head()"
   ]
  },
  {
   "cell_type": "markdown",
   "id": "1f3c71c0",
   "metadata": {},
   "source": [
    "6 ozelligimiz var bunlarla simdi analiz ve model olusturma zamani:"
   ]
  },
  {
   "cell_type": "markdown",
   "id": "4cbe2210",
   "metadata": {},
   "source": [
    "Veriyi anlamak:(bu paralar pound)\n",
    "count:veris sayisini gosterir\n",
    "mean:ortalama\n",
    "std:standart sapma\n",
    "min:minimum deger\n",
    "25%:\n",
    "50%:yuzdelik kisimlari\n",
    "75%:\n",
    "max:maximum deger"
   ]
  },
  {
   "cell_type": "code",
   "execution_count": 4,
   "id": "4e76185e",
   "metadata": {},
   "outputs": [
    {
     "data": {
      "text/html": [
       "<div>\n",
       "<style scoped>\n",
       "    .dataframe tbody tr th:only-of-type {\n",
       "        vertical-align: middle;\n",
       "    }\n",
       "\n",
       "    .dataframe tbody tr th {\n",
       "        vertical-align: top;\n",
       "    }\n",
       "\n",
       "    .dataframe thead th {\n",
       "        text-align: right;\n",
       "    }\n",
       "</style>\n",
       "<table border=\"1\" class=\"dataframe\">\n",
       "  <thead>\n",
       "    <tr style=\"text-align: right;\">\n",
       "      <th></th>\n",
       "      <th>year</th>\n",
       "      <th>price</th>\n",
       "      <th>mileage</th>\n",
       "      <th>tax</th>\n",
       "      <th>mpg</th>\n",
       "      <th>engineSize</th>\n",
       "    </tr>\n",
       "  </thead>\n",
       "  <tbody>\n",
       "    <tr>\n",
       "      <th>count</th>\n",
       "      <td>13119.000000</td>\n",
       "      <td>13119.000000</td>\n",
       "      <td>13119.000000</td>\n",
       "      <td>13119.000000</td>\n",
       "      <td>13119.000000</td>\n",
       "      <td>13119.000000</td>\n",
       "    </tr>\n",
       "    <tr>\n",
       "      <th>mean</th>\n",
       "      <td>2017.296288</td>\n",
       "      <td>24698.596920</td>\n",
       "      <td>21949.559037</td>\n",
       "      <td>129.972178</td>\n",
       "      <td>55.155843</td>\n",
       "      <td>2.071530</td>\n",
       "    </tr>\n",
       "    <tr>\n",
       "      <th>std</th>\n",
       "      <td>2.224709</td>\n",
       "      <td>11842.675542</td>\n",
       "      <td>21176.512267</td>\n",
       "      <td>65.260286</td>\n",
       "      <td>15.220082</td>\n",
       "      <td>0.572426</td>\n",
       "    </tr>\n",
       "    <tr>\n",
       "      <th>min</th>\n",
       "      <td>1970.000000</td>\n",
       "      <td>650.000000</td>\n",
       "      <td>1.000000</td>\n",
       "      <td>0.000000</td>\n",
       "      <td>1.100000</td>\n",
       "      <td>0.000000</td>\n",
       "    </tr>\n",
       "    <tr>\n",
       "      <th>25%</th>\n",
       "      <td>2016.000000</td>\n",
       "      <td>17450.000000</td>\n",
       "      <td>6097.500000</td>\n",
       "      <td>125.000000</td>\n",
       "      <td>45.600000</td>\n",
       "      <td>1.800000</td>\n",
       "    </tr>\n",
       "    <tr>\n",
       "      <th>50%</th>\n",
       "      <td>2018.000000</td>\n",
       "      <td>22480.000000</td>\n",
       "      <td>15189.000000</td>\n",
       "      <td>145.000000</td>\n",
       "      <td>56.500000</td>\n",
       "      <td>2.000000</td>\n",
       "    </tr>\n",
       "    <tr>\n",
       "      <th>75%</th>\n",
       "      <td>2019.000000</td>\n",
       "      <td>28980.000000</td>\n",
       "      <td>31779.500000</td>\n",
       "      <td>145.000000</td>\n",
       "      <td>64.200000</td>\n",
       "      <td>2.100000</td>\n",
       "    </tr>\n",
       "    <tr>\n",
       "      <th>max</th>\n",
       "      <td>2020.000000</td>\n",
       "      <td>159999.000000</td>\n",
       "      <td>259000.000000</td>\n",
       "      <td>580.000000</td>\n",
       "      <td>217.300000</td>\n",
       "      <td>6.200000</td>\n",
       "    </tr>\n",
       "  </tbody>\n",
       "</table>\n",
       "</div>"
      ],
      "text/plain": [
       "               year          price        mileage           tax           mpg  \\\n",
       "count  13119.000000   13119.000000   13119.000000  13119.000000  13119.000000   \n",
       "mean    2017.296288   24698.596920   21949.559037    129.972178     55.155843   \n",
       "std        2.224709   11842.675542   21176.512267     65.260286     15.220082   \n",
       "min     1970.000000     650.000000       1.000000      0.000000      1.100000   \n",
       "25%     2016.000000   17450.000000    6097.500000    125.000000     45.600000   \n",
       "50%     2018.000000   22480.000000   15189.000000    145.000000     56.500000   \n",
       "75%     2019.000000   28980.000000   31779.500000    145.000000     64.200000   \n",
       "max     2020.000000  159999.000000  259000.000000    580.000000    217.300000   \n",
       "\n",
       "         engineSize  \n",
       "count  13119.000000  \n",
       "mean       2.071530  \n",
       "std        0.572426  \n",
       "min        0.000000  \n",
       "25%        1.800000  \n",
       "50%        2.000000  \n",
       "75%        2.100000  \n",
       "max        6.200000  "
      ]
     },
     "execution_count": 4,
     "metadata": {},
     "output_type": "execute_result"
    }
   ],
   "source": [
    "dataFrame.describe()"
   ]
  },
  {
   "cell_type": "markdown",
   "id": "343210be",
   "metadata": {},
   "source": [
    "null bir veri varsa ya sil ya da doldur ortalama bir rakamla"
   ]
  },
  {
   "cell_type": "code",
   "execution_count": 5,
   "id": "a3384da6",
   "metadata": {},
   "outputs": [
    {
     "data": {
      "text/plain": [
       "year            0\n",
       "price           0\n",
       "transmission    0\n",
       "mileage         0\n",
       "tax             0\n",
       "mpg             0\n",
       "engineSize      0\n",
       "dtype: int64"
      ]
     },
     "execution_count": 5,
     "metadata": {},
     "output_type": "execute_result"
    }
   ],
   "source": [
    "dataFrame.isnull().sum()"
   ]
  },
  {
   "cell_type": "markdown",
   "id": "b8a0cea9",
   "metadata": {},
   "source": [
    "grafiksel analiz:\n",
    "dagilim grafigi:histplot (fiyata gore baktik)"
   ]
  },
  {
   "cell_type": "code",
   "execution_count": 7,
   "id": "22ae571e",
   "metadata": {},
   "outputs": [
    {
     "data": {
      "text/plain": [
       "<Axes: xlabel='price', ylabel='Count'>"
      ]
     },
     "execution_count": 7,
     "metadata": {},
     "output_type": "execute_result"
    },
    {
     "data": {
      "image/png": "[encoded data removed]",
      "text/plain": [
       "<Figure size 700x500 with 1 Axes>"
      ]
     },
     "metadata": {},
     "output_type": "display_data"
    }
   ],
   "source": [
    "plt.figure(figsize=(7,5))\n",
    "sbn.histplot(dataFrame[\"price\"])"
   ]
  },
  {
   "cell_type": "markdown",
   "id": "58c56c5d",
   "metadata": {},
   "source": [
    "bu grafikten anlayacagimiz outlier degerlerin oldugu yani en pahali arabalar veri setimizde sikinti yaratacak gibi duruyor.\n",
    "iki secenegin var:\n",
    "1. ya bu verileri silip dataFrame'le calismaya devam edersin\n",
    "2. ya da bu verilerle de calisip cikan sonucu gorursun \n",
    "gercek projelerde her ikisinin de yapilip hangisi daha iyi sonuc elde ediyorsa onu kullanmak daha mantikli"
   ]
  },
  {
   "cell_type": "code",
   "execution_count": 13,
   "id": "040d4036",
   "metadata": {},
   "outputs": [
    {
     "data": {
      "text/plain": [
       "<Axes: xlabel='year', ylabel='count'>"
      ]
     },
     "execution_count": 13,
     "metadata": {},
     "output_type": "execute_result"
    },
    {
     "data": {
      "image/png": "[encoded data removed]",
      "text/plain": [
       "<Figure size 1200x600 with 1 Axes>"
      ]
     },
     "metadata": {},
     "output_type": "display_data"
    }
   ],
   "source": [
    "plt.figure(figsize=(12, 6))\n",
    "sbn.countplot(x=\"year\",data=dataFrame)\n",
    "#yillara gore ne kadar veri var bakman mantikli"
   ]
  },
  {
   "cell_type": "markdown",
   "id": "74c9920c",
   "metadata": {},
   "source": [
    "Verilerin birbiri arasindaki korelasyona bak:\n",
    "numeric only=True olmali cunku gelecekte numerik olmayan veriler icin bir hataya yol acacaktir."
   ]
  },
  {
   "cell_type": "code",
   "execution_count": 16,
   "id": "86fffba6",
   "metadata": {},
   "outputs": [
    {
     "data": {
      "text/html": [
       "<div>\n",
       "<style scoped>\n",
       "    .dataframe tbody tr th:only-of-type {\n",
       "        vertical-align: middle;\n",
       "    }\n",
       "\n",
       "    .dataframe tbody tr th {\n",
       "        vertical-align: top;\n",
       "    }\n",
       "\n",
       "    .dataframe thead th {\n",
       "        text-align: right;\n",
       "    }\n",
       "</style>\n",
       "<table border=\"1\" class=\"dataframe\">\n",
       "  <thead>\n",
       "    <tr style=\"text-align: right;\">\n",
       "      <th></th>\n",
       "      <th>year</th>\n",
       "      <th>price</th>\n",
       "      <th>mileage</th>\n",
       "      <th>tax</th>\n",
       "      <th>mpg</th>\n",
       "      <th>engineSize</th>\n",
       "    </tr>\n",
       "  </thead>\n",
       "  <tbody>\n",
       "    <tr>\n",
       "      <th>year</th>\n",
       "      <td>1.000000</td>\n",
       "      <td>0.520712</td>\n",
       "      <td>-0.738027</td>\n",
       "      <td>0.012480</td>\n",
       "      <td>-0.094626</td>\n",
       "      <td>-0.142147</td>\n",
       "    </tr>\n",
       "    <tr>\n",
       "      <th>price</th>\n",
       "      <td>0.520712</td>\n",
       "      <td>1.000000</td>\n",
       "      <td>-0.537214</td>\n",
       "      <td>0.268717</td>\n",
       "      <td>-0.438445</td>\n",
       "      <td>0.516126</td>\n",
       "    </tr>\n",
       "    <tr>\n",
       "      <th>mileage</th>\n",
       "      <td>-0.738027</td>\n",
       "      <td>-0.537214</td>\n",
       "      <td>1.000000</td>\n",
       "      <td>-0.160223</td>\n",
       "      <td>0.202850</td>\n",
       "      <td>0.063652</td>\n",
       "    </tr>\n",
       "    <tr>\n",
       "      <th>tax</th>\n",
       "      <td>0.012480</td>\n",
       "      <td>0.268717</td>\n",
       "      <td>-0.160223</td>\n",
       "      <td>1.000000</td>\n",
       "      <td>-0.513742</td>\n",
       "      <td>0.338341</td>\n",
       "    </tr>\n",
       "    <tr>\n",
       "      <th>mpg</th>\n",
       "      <td>-0.094626</td>\n",
       "      <td>-0.438445</td>\n",
       "      <td>0.202850</td>\n",
       "      <td>-0.513742</td>\n",
       "      <td>1.000000</td>\n",
       "      <td>-0.339862</td>\n",
       "    </tr>\n",
       "    <tr>\n",
       "      <th>engineSize</th>\n",
       "      <td>-0.142147</td>\n",
       "      <td>0.516126</td>\n",
       "      <td>0.063652</td>\n",
       "      <td>0.338341</td>\n",
       "      <td>-0.339862</td>\n",
       "      <td>1.000000</td>\n",
       "    </tr>\n",
       "  </tbody>\n",
       "</table>\n",
       "</div>"
      ],
      "text/plain": [
       "                year     price   mileage       tax       mpg  engineSize\n",
       "year        1.000000  0.520712 -0.738027  0.012480 -0.094626   -0.142147\n",
       "price       0.520712  1.000000 -0.537214  0.268717 -0.438445    0.516126\n",
       "mileage    -0.738027 -0.537214  1.000000 -0.160223  0.202850    0.063652\n",
       "tax         0.012480  0.268717 -0.160223  1.000000 -0.513742    0.338341\n",
       "mpg        -0.094626 -0.438445  0.202850 -0.513742  1.000000   -0.339862\n",
       "engineSize -0.142147  0.516126  0.063652  0.338341 -0.339862    1.000000"
      ]
     },
     "execution_count": 16,
     "metadata": {},
     "output_type": "execute_result"
    }
   ],
   "source": [
    "dataFrame.corr(numeric_only=True)"
   ]
  },
  {
   "cell_type": "markdown",
   "id": "c2c62aa9",
   "metadata": {},
   "source": [
    "Bizi ilgilendiren price kolonu: \n",
    "Fiyatin neye gore degistigini ve diger ozelliklerin fiyati nasil etkiledigini analiz etmeye calisiyoruz.Bizi ilgilendiren fiyat oldugu icin fiyat ile diger verilerin korelasyonuna baksan daha iyi"
   ]
  },
  {
   "cell_type": "code",
   "execution_count": 18,
   "id": "8d08cf00",
   "metadata": {},
   "outputs": [
    {
     "data": {
      "text/plain": [
       "mileage      -0.537214\n",
       "mpg          -0.438445\n",
       "tax           0.268717\n",
       "engineSize    0.516126\n",
       "year          0.520712\n",
       "price         1.000000\n",
       "Name: price, dtype: float64"
      ]
     },
     "execution_count": 18,
     "metadata": {},
     "output_type": "execute_result"
    }
   ],
   "source": [
    "dataFrame.corr(numeric_only=True)[\"price\"].sort_values()"
   ]
  },
  {
   "cell_type": "code",
   "execution_count": 19,
   "id": "51a694db",
   "metadata": {},
   "outputs": [
    {
     "data": {
      "text/plain": [
       "<Axes: xlabel='mileage', ylabel='price'>"
      ]
     },
     "execution_count": 19,
     "metadata": {},
     "output_type": "execute_result"
    },
    {
     "data": {
      "image/png": "[encoded data removed]",
      "text/plain": [
       "<Figure size 640x480 with 1 Axes>"
      ]
     },
     "metadata": {},
     "output_type": "display_data"
    }
   ],
   "source": [
    "sbn.scatterplot(x=\"mileage\",y=\"price\",data=dataFrame)"
   ]
  },
  {
   "cell_type": "code",
   "execution_count": 20,
   "id": "fb485955",
   "metadata": {},
   "outputs": [
    {
     "data": {
      "text/html": [
       "<div>\n",
       "<style scoped>\n",
       "    .dataframe tbody tr th:only-of-type {\n",
       "        vertical-align: middle;\n",
       "    }\n",
       "\n",
       "    .dataframe tbody tr th {\n",
       "        vertical-align: top;\n",
       "    }\n",
       "\n",
       "    .dataframe thead th {\n",
       "        text-align: right;\n",
       "    }\n",
       "</style>\n",
       "<table border=\"1\" class=\"dataframe\">\n",
       "  <thead>\n",
       "    <tr style=\"text-align: right;\">\n",
       "      <th></th>\n",
       "      <th>year</th>\n",
       "      <th>price</th>\n",
       "      <th>transmission</th>\n",
       "      <th>mileage</th>\n",
       "      <th>tax</th>\n",
       "      <th>mpg</th>\n",
       "      <th>engineSize</th>\n",
       "    </tr>\n",
       "  </thead>\n",
       "  <tbody>\n",
       "    <tr>\n",
       "      <th>6199</th>\n",
       "      <td>2020</td>\n",
       "      <td>159999</td>\n",
       "      <td>Semi-Auto</td>\n",
       "      <td>1350</td>\n",
       "      <td>145</td>\n",
       "      <td>21.4</td>\n",
       "      <td>4.0</td>\n",
       "    </tr>\n",
       "    <tr>\n",
       "      <th>10044</th>\n",
       "      <td>2020</td>\n",
       "      <td>154998</td>\n",
       "      <td>Automatic</td>\n",
       "      <td>3000</td>\n",
       "      <td>150</td>\n",
       "      <td>21.4</td>\n",
       "      <td>4.0</td>\n",
       "    </tr>\n",
       "    <tr>\n",
       "      <th>5</th>\n",
       "      <td>2011</td>\n",
       "      <td>149948</td>\n",
       "      <td>Automatic</td>\n",
       "      <td>3000</td>\n",
       "      <td>570</td>\n",
       "      <td>21.4</td>\n",
       "      <td>6.2</td>\n",
       "    </tr>\n",
       "    <tr>\n",
       "      <th>8737</th>\n",
       "      <td>2019</td>\n",
       "      <td>140319</td>\n",
       "      <td>Semi-Auto</td>\n",
       "      <td>785</td>\n",
       "      <td>150</td>\n",
       "      <td>22.1</td>\n",
       "      <td>4.0</td>\n",
       "    </tr>\n",
       "    <tr>\n",
       "      <th>6386</th>\n",
       "      <td>2018</td>\n",
       "      <td>139995</td>\n",
       "      <td>Semi-Auto</td>\n",
       "      <td>13046</td>\n",
       "      <td>145</td>\n",
       "      <td>21.4</td>\n",
       "      <td>4.0</td>\n",
       "    </tr>\n",
       "    <tr>\n",
       "      <th>8</th>\n",
       "      <td>2019</td>\n",
       "      <td>139948</td>\n",
       "      <td>Automatic</td>\n",
       "      <td>12000</td>\n",
       "      <td>145</td>\n",
       "      <td>21.4</td>\n",
       "      <td>4.0</td>\n",
       "    </tr>\n",
       "    <tr>\n",
       "      <th>9133</th>\n",
       "      <td>2019</td>\n",
       "      <td>139559</td>\n",
       "      <td>Semi-Auto</td>\n",
       "      <td>1000</td>\n",
       "      <td>145</td>\n",
       "      <td>22.1</td>\n",
       "      <td>4.0</td>\n",
       "    </tr>\n",
       "    <tr>\n",
       "      <th>8821</th>\n",
       "      <td>2020</td>\n",
       "      <td>138439</td>\n",
       "      <td>Semi-Auto</td>\n",
       "      <td>1000</td>\n",
       "      <td>145</td>\n",
       "      <td>22.1</td>\n",
       "      <td>4.0</td>\n",
       "    </tr>\n",
       "    <tr>\n",
       "      <th>5902</th>\n",
       "      <td>2018</td>\n",
       "      <td>135771</td>\n",
       "      <td>Semi-Auto</td>\n",
       "      <td>19000</td>\n",
       "      <td>145</td>\n",
       "      <td>21.4</td>\n",
       "      <td>4.0</td>\n",
       "    </tr>\n",
       "    <tr>\n",
       "      <th>7864</th>\n",
       "      <td>2018</td>\n",
       "      <td>135124</td>\n",
       "      <td>Semi-Auto</td>\n",
       "      <td>18234</td>\n",
       "      <td>150</td>\n",
       "      <td>21.4</td>\n",
       "      <td>4.0</td>\n",
       "    </tr>\n",
       "    <tr>\n",
       "      <th>8673</th>\n",
       "      <td>2019</td>\n",
       "      <td>134219</td>\n",
       "      <td>Semi-Auto</td>\n",
       "      <td>1000</td>\n",
       "      <td>145</td>\n",
       "      <td>24.8</td>\n",
       "      <td>4.0</td>\n",
       "    </tr>\n",
       "    <tr>\n",
       "      <th>6210</th>\n",
       "      <td>2019</td>\n",
       "      <td>129990</td>\n",
       "      <td>Automatic</td>\n",
       "      <td>1000</td>\n",
       "      <td>145</td>\n",
       "      <td>24.8</td>\n",
       "      <td>4.0</td>\n",
       "    </tr>\n",
       "    <tr>\n",
       "      <th>4759</th>\n",
       "      <td>2019</td>\n",
       "      <td>126000</td>\n",
       "      <td>Automatic</td>\n",
       "      <td>250</td>\n",
       "      <td>145</td>\n",
       "      <td>24.6</td>\n",
       "      <td>4.0</td>\n",
       "    </tr>\n",
       "    <tr>\n",
       "      <th>2647</th>\n",
       "      <td>2019</td>\n",
       "      <td>125796</td>\n",
       "      <td>Automatic</td>\n",
       "      <td>637</td>\n",
       "      <td>145</td>\n",
       "      <td>24.8</td>\n",
       "      <td>4.0</td>\n",
       "    </tr>\n",
       "    <tr>\n",
       "      <th>6223</th>\n",
       "      <td>2019</td>\n",
       "      <td>124999</td>\n",
       "      <td>Automatic</td>\n",
       "      <td>1500</td>\n",
       "      <td>145</td>\n",
       "      <td>31.7</td>\n",
       "      <td>4.0</td>\n",
       "    </tr>\n",
       "    <tr>\n",
       "      <th>4094</th>\n",
       "      <td>2019</td>\n",
       "      <td>124366</td>\n",
       "      <td>Semi-Auto</td>\n",
       "      <td>880</td>\n",
       "      <td>145</td>\n",
       "      <td>24.8</td>\n",
       "      <td>4.0</td>\n",
       "    </tr>\n",
       "    <tr>\n",
       "      <th>2629</th>\n",
       "      <td>2019</td>\n",
       "      <td>123846</td>\n",
       "      <td>Semi-Auto</td>\n",
       "      <td>2951</td>\n",
       "      <td>145</td>\n",
       "      <td>22.1</td>\n",
       "      <td>4.0</td>\n",
       "    </tr>\n",
       "    <tr>\n",
       "      <th>7134</th>\n",
       "      <td>2019</td>\n",
       "      <td>115359</td>\n",
       "      <td>Semi-Auto</td>\n",
       "      <td>1000</td>\n",
       "      <td>145</td>\n",
       "      <td>30.1</td>\n",
       "      <td>4.0</td>\n",
       "    </tr>\n",
       "    <tr>\n",
       "      <th>9159</th>\n",
       "      <td>2019</td>\n",
       "      <td>114199</td>\n",
       "      <td>Semi-Auto</td>\n",
       "      <td>891</td>\n",
       "      <td>145</td>\n",
       "      <td>22.6</td>\n",
       "      <td>4.0</td>\n",
       "    </tr>\n",
       "    <tr>\n",
       "      <th>1980</th>\n",
       "      <td>2019</td>\n",
       "      <td>109995</td>\n",
       "      <td>Semi-Auto</td>\n",
       "      <td>4688</td>\n",
       "      <td>150</td>\n",
       "      <td>31.7</td>\n",
       "      <td>4.0</td>\n",
       "    </tr>\n",
       "  </tbody>\n",
       "</table>\n",
       "</div>"
      ],
      "text/plain": [
       "       year   price transmission  mileage  tax   mpg  engineSize\n",
       "6199   2020  159999    Semi-Auto     1350  145  21.4         4.0\n",
       "10044  2020  154998    Automatic     3000  150  21.4         4.0\n",
       "5      2011  149948    Automatic     3000  570  21.4         6.2\n",
       "8737   2019  140319    Semi-Auto      785  150  22.1         4.0\n",
       "6386   2018  139995    Semi-Auto    13046  145  21.4         4.0\n",
       "8      2019  139948    Automatic    12000  145  21.4         4.0\n",
       "9133   2019  139559    Semi-Auto     1000  145  22.1         4.0\n",
       "8821   2020  138439    Semi-Auto     1000  145  22.1         4.0\n",
       "5902   2018  135771    Semi-Auto    19000  145  21.4         4.0\n",
       "7864   2018  135124    Semi-Auto    18234  150  21.4         4.0\n",
       "8673   2019  134219    Semi-Auto     1000  145  24.8         4.0\n",
       "6210   2019  129990    Automatic     1000  145  24.8         4.0\n",
       "4759   2019  126000    Automatic      250  145  24.6         4.0\n",
       "2647   2019  125796    Automatic      637  145  24.8         4.0\n",
       "6223   2019  124999    Automatic     1500  145  31.7         4.0\n",
       "4094   2019  124366    Semi-Auto      880  145  24.8         4.0\n",
       "2629   2019  123846    Semi-Auto     2951  145  22.1         4.0\n",
       "7134   2019  115359    Semi-Auto     1000  145  30.1         4.0\n",
       "9159   2019  114199    Semi-Auto      891  145  22.6         4.0\n",
       "1980   2019  109995    Semi-Auto     4688  150  31.7         4.0"
      ]
     },
     "execution_count": 20,
     "metadata": {},
     "output_type": "execute_result"
    }
   ],
   "source": [
    "dataFrame.sort_values(\"price\",ascending = False).head(20)"
   ]
  },
  {
   "cell_type": "markdown",
   "id": "93d6aee8",
   "metadata": {},
   "source": [
    "ascending=false en yuksek fiyatlari getirir.\n",
    "true oldugunda da bu sefer azalandan artan fiyata"
   ]
  },
  {
   "cell_type": "code",
   "execution_count": 21,
   "id": "3d3a945e",
   "metadata": {},
   "outputs": [
    {
     "data": {
      "text/html": [
       "<div>\n",
       "<style scoped>\n",
       "    .dataframe tbody tr th:only-of-type {\n",
       "        vertical-align: middle;\n",
       "    }\n",
       "\n",
       "    .dataframe tbody tr th {\n",
       "        vertical-align: top;\n",
       "    }\n",
       "\n",
       "    .dataframe thead th {\n",
       "        text-align: right;\n",
       "    }\n",
       "</style>\n",
       "<table border=\"1\" class=\"dataframe\">\n",
       "  <thead>\n",
       "    <tr style=\"text-align: right;\">\n",
       "      <th></th>\n",
       "      <th>year</th>\n",
       "      <th>price</th>\n",
       "      <th>transmission</th>\n",
       "      <th>mileage</th>\n",
       "      <th>tax</th>\n",
       "      <th>mpg</th>\n",
       "      <th>engineSize</th>\n",
       "    </tr>\n",
       "  </thead>\n",
       "  <tbody>\n",
       "    <tr>\n",
       "      <th>11816</th>\n",
       "      <td>2003</td>\n",
       "      <td>650</td>\n",
       "      <td>Manual</td>\n",
       "      <td>109090</td>\n",
       "      <td>235</td>\n",
       "      <td>40.0</td>\n",
       "      <td>1.4</td>\n",
       "    </tr>\n",
       "    <tr>\n",
       "      <th>12008</th>\n",
       "      <td>2010</td>\n",
       "      <td>1350</td>\n",
       "      <td>Manual</td>\n",
       "      <td>116126</td>\n",
       "      <td>145</td>\n",
       "      <td>54.3</td>\n",
       "      <td>2.0</td>\n",
       "    </tr>\n",
       "    <tr>\n",
       "      <th>11765</th>\n",
       "      <td>2000</td>\n",
       "      <td>1490</td>\n",
       "      <td>Automatic</td>\n",
       "      <td>87000</td>\n",
       "      <td>265</td>\n",
       "      <td>27.2</td>\n",
       "      <td>3.2</td>\n",
       "    </tr>\n",
       "    <tr>\n",
       "      <th>11549</th>\n",
       "      <td>2002</td>\n",
       "      <td>1495</td>\n",
       "      <td>Automatic</td>\n",
       "      <td>13800</td>\n",
       "      <td>305</td>\n",
       "      <td>39.8</td>\n",
       "      <td>2.7</td>\n",
       "    </tr>\n",
       "    <tr>\n",
       "      <th>12594</th>\n",
       "      <td>2004</td>\n",
       "      <td>1495</td>\n",
       "      <td>Manual</td>\n",
       "      <td>119000</td>\n",
       "      <td>300</td>\n",
       "      <td>34.5</td>\n",
       "      <td>1.8</td>\n",
       "    </tr>\n",
       "    <tr>\n",
       "      <th>11174</th>\n",
       "      <td>2001</td>\n",
       "      <td>1695</td>\n",
       "      <td>Automatic</td>\n",
       "      <td>108800</td>\n",
       "      <td>325</td>\n",
       "      <td>31.7</td>\n",
       "      <td>3.2</td>\n",
       "    </tr>\n",
       "    <tr>\n",
       "      <th>12710</th>\n",
       "      <td>2006</td>\n",
       "      <td>1695</td>\n",
       "      <td>Automatic</td>\n",
       "      <td>153000</td>\n",
       "      <td>300</td>\n",
       "      <td>33.6</td>\n",
       "      <td>1.8</td>\n",
       "    </tr>\n",
       "    <tr>\n",
       "      <th>12766</th>\n",
       "      <td>2004</td>\n",
       "      <td>1780</td>\n",
       "      <td>Automatic</td>\n",
       "      <td>118000</td>\n",
       "      <td>265</td>\n",
       "      <td>41.5</td>\n",
       "      <td>2.2</td>\n",
       "    </tr>\n",
       "    <tr>\n",
       "      <th>12009</th>\n",
       "      <td>2007</td>\n",
       "      <td>1800</td>\n",
       "      <td>Automatic</td>\n",
       "      <td>84000</td>\n",
       "      <td>200</td>\n",
       "      <td>42.8</td>\n",
       "      <td>1.5</td>\n",
       "    </tr>\n",
       "    <tr>\n",
       "      <th>11764</th>\n",
       "      <td>1998</td>\n",
       "      <td>1990</td>\n",
       "      <td>Automatic</td>\n",
       "      <td>99300</td>\n",
       "      <td>265</td>\n",
       "      <td>32.1</td>\n",
       "      <td>2.3</td>\n",
       "    </tr>\n",
       "    <tr>\n",
       "      <th>11808</th>\n",
       "      <td>1998</td>\n",
       "      <td>1990</td>\n",
       "      <td>Automatic</td>\n",
       "      <td>113557</td>\n",
       "      <td>265</td>\n",
       "      <td>32.1</td>\n",
       "      <td>2.3</td>\n",
       "    </tr>\n",
       "    <tr>\n",
       "      <th>11383</th>\n",
       "      <td>2005</td>\n",
       "      <td>1995</td>\n",
       "      <td>Automatic</td>\n",
       "      <td>105000</td>\n",
       "      <td>260</td>\n",
       "      <td>43.5</td>\n",
       "      <td>2.1</td>\n",
       "    </tr>\n",
       "    <tr>\n",
       "      <th>11378</th>\n",
       "      <td>2004</td>\n",
       "      <td>1995</td>\n",
       "      <td>Semi-Auto</td>\n",
       "      <td>165000</td>\n",
       "      <td>330</td>\n",
       "      <td>20.0</td>\n",
       "      <td>3.7</td>\n",
       "    </tr>\n",
       "    <tr>\n",
       "      <th>11857</th>\n",
       "      <td>2002</td>\n",
       "      <td>2140</td>\n",
       "      <td>Automatic</td>\n",
       "      <td>52700</td>\n",
       "      <td>325</td>\n",
       "      <td>31.4</td>\n",
       "      <td>2.0</td>\n",
       "    </tr>\n",
       "    <tr>\n",
       "      <th>11906</th>\n",
       "      <td>2007</td>\n",
       "      <td>2478</td>\n",
       "      <td>Automatic</td>\n",
       "      <td>81000</td>\n",
       "      <td>160</td>\n",
       "      <td>49.6</td>\n",
       "      <td>2.0</td>\n",
       "    </tr>\n",
       "    <tr>\n",
       "      <th>11795</th>\n",
       "      <td>2005</td>\n",
       "      <td>2490</td>\n",
       "      <td>Automatic</td>\n",
       "      <td>101980</td>\n",
       "      <td>200</td>\n",
       "      <td>47.9</td>\n",
       "      <td>2.0</td>\n",
       "    </tr>\n",
       "    <tr>\n",
       "      <th>12765</th>\n",
       "      <td>2004</td>\n",
       "      <td>2495</td>\n",
       "      <td>Automatic</td>\n",
       "      <td>104000</td>\n",
       "      <td>325</td>\n",
       "      <td>31.7</td>\n",
       "      <td>1.8</td>\n",
       "    </tr>\n",
       "    <tr>\n",
       "      <th>11943</th>\n",
       "      <td>2005</td>\n",
       "      <td>2690</td>\n",
       "      <td>Automatic</td>\n",
       "      <td>109000</td>\n",
       "      <td>325</td>\n",
       "      <td>32.1</td>\n",
       "      <td>1.8</td>\n",
       "    </tr>\n",
       "    <tr>\n",
       "      <th>11263</th>\n",
       "      <td>2007</td>\n",
       "      <td>2795</td>\n",
       "      <td>Manual</td>\n",
       "      <td>79485</td>\n",
       "      <td>200</td>\n",
       "      <td>45.6</td>\n",
       "      <td>1.5</td>\n",
       "    </tr>\n",
       "    <tr>\n",
       "      <th>49</th>\n",
       "      <td>2006</td>\n",
       "      <td>2880</td>\n",
       "      <td>Automatic</td>\n",
       "      <td>66000</td>\n",
       "      <td>160</td>\n",
       "      <td>52.3</td>\n",
       "      <td>2.0</td>\n",
       "    </tr>\n",
       "  </tbody>\n",
       "</table>\n",
       "</div>"
      ],
      "text/plain": [
       "       year  price transmission  mileage  tax   mpg  engineSize\n",
       "11816  2003    650       Manual   109090  235  40.0         1.4\n",
       "12008  2010   1350       Manual   116126  145  54.3         2.0\n",
       "11765  2000   1490    Automatic    87000  265  27.2         3.2\n",
       "11549  2002   1495    Automatic    13800  305  39.8         2.7\n",
       "12594  2004   1495       Manual   119000  300  34.5         1.8\n",
       "11174  2001   1695    Automatic   108800  325  31.7         3.2\n",
       "12710  2006   1695    Automatic   153000  300  33.6         1.8\n",
       "12766  2004   1780    Automatic   118000  265  41.5         2.2\n",
       "12009  2007   1800    Automatic    84000  200  42.8         1.5\n",
       "11764  1998   1990    Automatic    99300  265  32.1         2.3\n",
       "11808  1998   1990    Automatic   113557  265  32.1         2.3\n",
       "11383  2005   1995    Automatic   105000  260  43.5         2.1\n",
       "11378  2004   1995    Semi-Auto   165000  330  20.0         3.7\n",
       "11857  2002   2140    Automatic    52700  325  31.4         2.0\n",
       "11906  2007   2478    Automatic    81000  160  49.6         2.0\n",
       "11795  2005   2490    Automatic   101980  200  47.9         2.0\n",
       "12765  2004   2495    Automatic   104000  325  31.7         1.8\n",
       "11943  2005   2690    Automatic   109000  325  32.1         1.8\n",
       "11263  2007   2795       Manual    79485  200  45.6         1.5\n",
       "49     2006   2880    Automatic    66000  160  52.3         2.0"
      ]
     },
     "execution_count": 21,
     "metadata": {},
     "output_type": "execute_result"
    }
   ],
   "source": [
    "dataFrame.sort_values(\"price\",ascending = True).head(20)"
   ]
  },
  {
   "cell_type": "code",
   "execution_count": 22,
   "id": "c52e312a",
   "metadata": {},
   "outputs": [
    {
     "data": {
      "text/plain": [
       "13119"
      ]
     },
     "execution_count": 22,
     "metadata": {},
     "output_type": "execute_result"
    }
   ],
   "source": [
    "len(dataFrame)"
   ]
  },
  {
   "cell_type": "code",
   "execution_count": 23,
   "id": "098ab9ec",
   "metadata": {},
   "outputs": [
    {
     "data": {
      "text/plain": [
       "131.19"
      ]
     },
     "execution_count": 23,
     "metadata": {},
     "output_type": "execute_result"
    }
   ],
   "source": [
    "len(dataFrame) * 0.01 "
   ]
  },
  {
   "cell_type": "markdown",
   "id": "a1040d16",
   "metadata": {},
   "source": [
    "VERI TEMIZLIGI:\n"
   ]
  },
  {
   "cell_type": "code",
   "execution_count": 24,
   "id": "1c59a977",
   "metadata": {},
   "outputs": [],
   "source": [
    "yuzdeDoksanDokuzDf = dataFrame.sort_values(\"price\",ascending = False).iloc[131:]\n",
    "#indexe gore yerini bul en pahali araclarin 131'den sonraki degerden baslar veri seti dondurur.Bunu yuzdeDoksanDokuz'a \n",
    "#esitlersen bu senin yeni dataframe'in olur yani yuksek fiyatlardan temizlemis oldun veri setini"
   ]
  },
  {
   "cell_type": "code",
   "execution_count": 25,
   "id": "0659c593",
   "metadata": {},
   "outputs": [
    {
     "data": {
      "text/html": [
       "<div>\n",
       "<style scoped>\n",
       "    .dataframe tbody tr th:only-of-type {\n",
       "        vertical-align: middle;\n",
       "    }\n",
       "\n",
       "    .dataframe tbody tr th {\n",
       "        vertical-align: top;\n",
       "    }\n",
       "\n",
       "    .dataframe thead th {\n",
       "        text-align: right;\n",
       "    }\n",
       "</style>\n",
       "<table border=\"1\" class=\"dataframe\">\n",
       "  <thead>\n",
       "    <tr style=\"text-align: right;\">\n",
       "      <th></th>\n",
       "      <th>year</th>\n",
       "      <th>price</th>\n",
       "      <th>mileage</th>\n",
       "      <th>tax</th>\n",
       "      <th>mpg</th>\n",
       "      <th>engineSize</th>\n",
       "    </tr>\n",
       "  </thead>\n",
       "  <tbody>\n",
       "    <tr>\n",
       "      <th>count</th>\n",
       "      <td>12988.000000</td>\n",
       "      <td>12988.000000</td>\n",
       "      <td>12988.000000</td>\n",
       "      <td>12988.000000</td>\n",
       "      <td>12988.000000</td>\n",
       "      <td>12988.000000</td>\n",
       "    </tr>\n",
       "    <tr>\n",
       "      <th>mean</th>\n",
       "      <td>2017.281876</td>\n",
       "      <td>24074.926933</td>\n",
       "      <td>22132.741146</td>\n",
       "      <td>129.689714</td>\n",
       "      <td>55.437142</td>\n",
       "      <td>2.050901</td>\n",
       "    </tr>\n",
       "    <tr>\n",
       "      <th>std</th>\n",
       "      <td>2.228515</td>\n",
       "      <td>9866.224575</td>\n",
       "      <td>21196.776401</td>\n",
       "      <td>65.183076</td>\n",
       "      <td>15.025999</td>\n",
       "      <td>0.532596</td>\n",
       "    </tr>\n",
       "    <tr>\n",
       "      <th>min</th>\n",
       "      <td>1970.000000</td>\n",
       "      <td>650.000000</td>\n",
       "      <td>1.000000</td>\n",
       "      <td>0.000000</td>\n",
       "      <td>1.100000</td>\n",
       "      <td>0.000000</td>\n",
       "    </tr>\n",
       "    <tr>\n",
       "      <th>25%</th>\n",
       "      <td>2016.000000</td>\n",
       "      <td>17357.500000</td>\n",
       "      <td>6322.000000</td>\n",
       "      <td>125.000000</td>\n",
       "      <td>45.600000</td>\n",
       "      <td>1.675000</td>\n",
       "    </tr>\n",
       "    <tr>\n",
       "      <th>50%</th>\n",
       "      <td>2018.000000</td>\n",
       "      <td>22299.000000</td>\n",
       "      <td>15369.500000</td>\n",
       "      <td>145.000000</td>\n",
       "      <td>56.500000</td>\n",
       "      <td>2.000000</td>\n",
       "    </tr>\n",
       "    <tr>\n",
       "      <th>75%</th>\n",
       "      <td>2019.000000</td>\n",
       "      <td>28706.000000</td>\n",
       "      <td>31982.250000</td>\n",
       "      <td>145.000000</td>\n",
       "      <td>64.200000</td>\n",
       "      <td>2.100000</td>\n",
       "    </tr>\n",
       "    <tr>\n",
       "      <th>max</th>\n",
       "      <td>2020.000000</td>\n",
       "      <td>65990.000000</td>\n",
       "      <td>259000.000000</td>\n",
       "      <td>580.000000</td>\n",
       "      <td>217.300000</td>\n",
       "      <td>6.200000</td>\n",
       "    </tr>\n",
       "  </tbody>\n",
       "</table>\n",
       "</div>"
      ],
      "text/plain": [
       "               year         price        mileage           tax           mpg  \\\n",
       "count  12988.000000  12988.000000   12988.000000  12988.000000  12988.000000   \n",
       "mean    2017.281876  24074.926933   22132.741146    129.689714     55.437142   \n",
       "std        2.228515   9866.224575   21196.776401     65.183076     15.025999   \n",
       "min     1970.000000    650.000000       1.000000      0.000000      1.100000   \n",
       "25%     2016.000000  17357.500000    6322.000000    125.000000     45.600000   \n",
       "50%     2018.000000  22299.000000   15369.500000    145.000000     56.500000   \n",
       "75%     2019.000000  28706.000000   31982.250000    145.000000     64.200000   \n",
       "max     2020.000000  65990.000000  259000.000000    580.000000    217.300000   \n",
       "\n",
       "         engineSize  \n",
       "count  12988.000000  \n",
       "mean       2.050901  \n",
       "std        0.532596  \n",
       "min        0.000000  \n",
       "25%        1.675000  \n",
       "50%        2.000000  \n",
       "75%        2.100000  \n",
       "max        6.200000  "
      ]
     },
     "execution_count": 25,
     "metadata": {},
     "output_type": "execute_result"
    }
   ],
   "source": [
    "yuzdeDoksanDokuzDf.describe()\n",
    "#artik islemlere bu veri seti uzerinden devam et"
   ]
  },
  {
   "cell_type": "code",
   "execution_count": 29,
   "id": "48a57fca",
   "metadata": {},
   "outputs": [
    {
     "data": {
      "text/plain": [
       "<seaborn.axisgrid.FacetGrid at 0x29c85af00a0>"
      ]
     },
     "execution_count": 29,
     "metadata": {},
     "output_type": "execute_result"
    },
    {
     "data": {
      "text/plain": [
       "<Figure size 700x500 with 0 Axes>"
      ]
     },
     "metadata": {},
     "output_type": "display_data"
    },
    {
     "data": {
      "image/png": "[encoded data removed]",
      "text/plain": [
       "<Figure size 500x500 with 1 Axes>"
      ]
     },
     "metadata": {},
     "output_type": "display_data"
    }
   ],
   "source": [
    "plt.figure(figsize=(7,5))\n",
    "sbn.displot(yuzdeDoksanDokuzDf[\"price\"])"
   ]
  },
  {
   "cell_type": "markdown",
   "id": "6e3420d8",
   "metadata": {},
   "source": [
    "daha normal bir dagilima sahip bir veri seti elde ettin"
   ]
  },
  {
   "cell_type": "code",
   "execution_count": 30,
   "id": "0731782b",
   "metadata": {},
   "outputs": [
    {
     "data": {
      "text/html": [
       "<div>\n",
       "<style scoped>\n",
       "    .dataframe tbody tr th:only-of-type {\n",
       "        vertical-align: middle;\n",
       "    }\n",
       "\n",
       "    .dataframe tbody tr th {\n",
       "        vertical-align: top;\n",
       "    }\n",
       "\n",
       "    .dataframe thead th {\n",
       "        text-align: right;\n",
       "    }\n",
       "</style>\n",
       "<table border=\"1\" class=\"dataframe\">\n",
       "  <thead>\n",
       "    <tr style=\"text-align: right;\">\n",
       "      <th></th>\n",
       "      <th>year</th>\n",
       "      <th>price</th>\n",
       "      <th>mileage</th>\n",
       "      <th>tax</th>\n",
       "      <th>mpg</th>\n",
       "      <th>engineSize</th>\n",
       "    </tr>\n",
       "  </thead>\n",
       "  <tbody>\n",
       "    <tr>\n",
       "      <th>count</th>\n",
       "      <td>13119.000000</td>\n",
       "      <td>13119.000000</td>\n",
       "      <td>13119.000000</td>\n",
       "      <td>13119.000000</td>\n",
       "      <td>13119.000000</td>\n",
       "      <td>13119.000000</td>\n",
       "    </tr>\n",
       "    <tr>\n",
       "      <th>mean</th>\n",
       "      <td>2017.296288</td>\n",
       "      <td>24698.596920</td>\n",
       "      <td>21949.559037</td>\n",
       "      <td>129.972178</td>\n",
       "      <td>55.155843</td>\n",
       "      <td>2.071530</td>\n",
       "    </tr>\n",
       "    <tr>\n",
       "      <th>std</th>\n",
       "      <td>2.224709</td>\n",
       "      <td>11842.675542</td>\n",
       "      <td>21176.512267</td>\n",
       "      <td>65.260286</td>\n",
       "      <td>15.220082</td>\n",
       "      <td>0.572426</td>\n",
       "    </tr>\n",
       "    <tr>\n",
       "      <th>min</th>\n",
       "      <td>1970.000000</td>\n",
       "      <td>650.000000</td>\n",
       "      <td>1.000000</td>\n",
       "      <td>0.000000</td>\n",
       "      <td>1.100000</td>\n",
       "      <td>0.000000</td>\n",
       "    </tr>\n",
       "    <tr>\n",
       "      <th>25%</th>\n",
       "      <td>2016.000000</td>\n",
       "      <td>17450.000000</td>\n",
       "      <td>6097.500000</td>\n",
       "      <td>125.000000</td>\n",
       "      <td>45.600000</td>\n",
       "      <td>1.800000</td>\n",
       "    </tr>\n",
       "    <tr>\n",
       "      <th>50%</th>\n",
       "      <td>2018.000000</td>\n",
       "      <td>22480.000000</td>\n",
       "      <td>15189.000000</td>\n",
       "      <td>145.000000</td>\n",
       "      <td>56.500000</td>\n",
       "      <td>2.000000</td>\n",
       "    </tr>\n",
       "    <tr>\n",
       "      <th>75%</th>\n",
       "      <td>2019.000000</td>\n",
       "      <td>28980.000000</td>\n",
       "      <td>31779.500000</td>\n",
       "      <td>145.000000</td>\n",
       "      <td>64.200000</td>\n",
       "      <td>2.100000</td>\n",
       "    </tr>\n",
       "    <tr>\n",
       "      <th>max</th>\n",
       "      <td>2020.000000</td>\n",
       "      <td>159999.000000</td>\n",
       "      <td>259000.000000</td>\n",
       "      <td>580.000000</td>\n",
       "      <td>217.300000</td>\n",
       "      <td>6.200000</td>\n",
       "    </tr>\n",
       "  </tbody>\n",
       "</table>\n",
       "</div>"
      ],
      "text/plain": [
       "               year          price        mileage           tax           mpg  \\\n",
       "count  13119.000000   13119.000000   13119.000000  13119.000000  13119.000000   \n",
       "mean    2017.296288   24698.596920   21949.559037    129.972178     55.155843   \n",
       "std        2.224709   11842.675542   21176.512267     65.260286     15.220082   \n",
       "min     1970.000000     650.000000       1.000000      0.000000      1.100000   \n",
       "25%     2016.000000   17450.000000    6097.500000    125.000000     45.600000   \n",
       "50%     2018.000000   22480.000000   15189.000000    145.000000     56.500000   \n",
       "75%     2019.000000   28980.000000   31779.500000    145.000000     64.200000   \n",
       "max     2020.000000  159999.000000  259000.000000    580.000000    217.300000   \n",
       "\n",
       "         engineSize  \n",
       "count  13119.000000  \n",
       "mean       2.071530  \n",
       "std        0.572426  \n",
       "min        0.000000  \n",
       "25%        1.800000  \n",
       "50%        2.000000  \n",
       "75%        2.100000  \n",
       "max        6.200000  "
      ]
     },
     "execution_count": 30,
     "metadata": {},
     "output_type": "execute_result"
    }
   ],
   "source": [
    "dataFrame.describe()\n",
    "#orijinal dataFramemiz"
   ]
  },
  {
   "cell_type": "code",
   "execution_count": 32,
   "id": "0fcc0e05",
   "metadata": {},
   "outputs": [
    {
     "data": {
      "text/plain": [
       "year\n",
       "1970    24999.000000\n",
       "1997     9995.000000\n",
       "1998     8605.000000\n",
       "1999     5995.000000\n",
       "2000     5743.333333\n",
       "2001     4957.900000\n",
       "2002     5820.444444\n",
       "2003     4878.000000\n",
       "2004     4727.615385\n",
       "2005     4426.111111\n",
       "2006     4036.875000\n",
       "2007     5136.045455\n",
       "2008     6967.437500\n",
       "2009     6166.764706\n",
       "2010     8308.473684\n",
       "2011    12624.894737\n",
       "2012    10845.140351\n",
       "2013    11939.842466\n",
       "2014    14042.936864\n",
       "2015    16731.780020\n",
       "2016    19307.892948\n",
       "2017    21514.307854\n",
       "2018    25720.162918\n",
       "2019    31290.020865\n",
       "2020    35433.282337\n",
       "Name: price, dtype: float64"
      ]
     },
     "execution_count": 32,
     "metadata": {},
     "output_type": "execute_result"
    }
   ],
   "source": [
    "dataFrame.groupby(\"year\").mean(numeric_only=True)[\"price\"]"
   ]
  },
  {
   "cell_type": "code",
   "execution_count": 33,
   "id": "2e1152a9",
   "metadata": {},
   "outputs": [
    {
     "data": {
      "text/plain": [
       "year\n",
       "1970    24999.000000\n",
       "1997     9995.000000\n",
       "1998     8605.000000\n",
       "1999     5995.000000\n",
       "2000     5743.333333\n",
       "2001     4957.900000\n",
       "2002     5820.444444\n",
       "2003     4878.000000\n",
       "2004     4727.615385\n",
       "2005     4426.111111\n",
       "2006     4036.875000\n",
       "2007     5136.045455\n",
       "2008     6967.437500\n",
       "2009     6166.764706\n",
       "2010     8308.473684\n",
       "2011     8913.459459\n",
       "2012    10845.140351\n",
       "2013    11939.842466\n",
       "2014    14042.936864\n",
       "2015    16647.822222\n",
       "2016    19223.558943\n",
       "2017    21356.280421\n",
       "2018    24800.844506\n",
       "2019    30289.524832\n",
       "2020    34234.794872\n",
       "Name: price, dtype: float64"
      ]
     },
     "execution_count": 33,
     "metadata": {},
     "output_type": "execute_result"
    }
   ],
   "source": [
    "yuzdeDoksanDokuzDf.groupby(\"year\").mean(numeric_only=True)[\"price\"]"
   ]
  },
  {
   "cell_type": "markdown",
   "id": "c719f831",
   "metadata": {},
   "source": [
    "1970 teki araclarin guncel yillarda satilan araclardan daha pahaliya satilmasi anlamsiz o zaman burda aykiri veriler soz konusudur.Bunun icin bunlari silebilirsin."
   ]
  },
  {
   "cell_type": "code",
   "execution_count": 35,
   "id": "6912ee25",
   "metadata": {},
   "outputs": [
    {
     "data": {
      "text/plain": [
       "year\n",
       "1997     9995.000000\n",
       "1998     8605.000000\n",
       "1999     5995.000000\n",
       "2000     5743.333333\n",
       "2001     4957.900000\n",
       "2002     5820.444444\n",
       "2003     4878.000000\n",
       "2004     4727.615385\n",
       "2005     4426.111111\n",
       "2006     4036.875000\n",
       "2007     5136.045455\n",
       "2008     6967.437500\n",
       "2009     6166.764706\n",
       "2010     8308.473684\n",
       "2011    12624.894737\n",
       "2012    10845.140351\n",
       "2013    11939.842466\n",
       "2014    14042.936864\n",
       "2015    16731.780020\n",
       "2016    19307.892948\n",
       "2017    21514.307854\n",
       "2018    25720.162918\n",
       "2019    31290.020865\n",
       "2020    35433.282337\n",
       "Name: price, dtype: float64"
      ]
     },
     "execution_count": 35,
     "metadata": {},
     "output_type": "execute_result"
    }
   ],
   "source": [
    "dataFrame[dataFrame.year != 1970].groupby(\"year\").mean(numeric_only=True)[\"price\"]"
   ]
  },
  {
   "cell_type": "code",
   "execution_count": 36,
   "id": "0ace562a",
   "metadata": {},
   "outputs": [],
   "source": [
    "dataFrame = yuzdeDoksanDokuzDf"
   ]
  },
  {
   "cell_type": "code",
   "execution_count": 37,
   "id": "8f2b1e7a",
   "metadata": {},
   "outputs": [
    {
     "data": {
      "text/html": [
       "<div>\n",
       "<style scoped>\n",
       "    .dataframe tbody tr th:only-of-type {\n",
       "        vertical-align: middle;\n",
       "    }\n",
       "\n",
       "    .dataframe tbody tr th {\n",
       "        vertical-align: top;\n",
       "    }\n",
       "\n",
       "    .dataframe thead th {\n",
       "        text-align: right;\n",
       "    }\n",
       "</style>\n",
       "<table border=\"1\" class=\"dataframe\">\n",
       "  <thead>\n",
       "    <tr style=\"text-align: right;\">\n",
       "      <th></th>\n",
       "      <th>year</th>\n",
       "      <th>price</th>\n",
       "      <th>mileage</th>\n",
       "      <th>tax</th>\n",
       "      <th>mpg</th>\n",
       "      <th>engineSize</th>\n",
       "    </tr>\n",
       "  </thead>\n",
       "  <tbody>\n",
       "    <tr>\n",
       "      <th>count</th>\n",
       "      <td>12988.000000</td>\n",
       "      <td>12988.000000</td>\n",
       "      <td>12988.000000</td>\n",
       "      <td>12988.000000</td>\n",
       "      <td>12988.000000</td>\n",
       "      <td>12988.000000</td>\n",
       "    </tr>\n",
       "    <tr>\n",
       "      <th>mean</th>\n",
       "      <td>2017.281876</td>\n",
       "      <td>24074.926933</td>\n",
       "      <td>22132.741146</td>\n",
       "      <td>129.689714</td>\n",
       "      <td>55.437142</td>\n",
       "      <td>2.050901</td>\n",
       "    </tr>\n",
       "    <tr>\n",
       "      <th>std</th>\n",
       "      <td>2.228515</td>\n",
       "      <td>9866.224575</td>\n",
       "      <td>21196.776401</td>\n",
       "      <td>65.183076</td>\n",
       "      <td>15.025999</td>\n",
       "      <td>0.532596</td>\n",
       "    </tr>\n",
       "    <tr>\n",
       "      <th>min</th>\n",
       "      <td>1970.000000</td>\n",
       "      <td>650.000000</td>\n",
       "      <td>1.000000</td>\n",
       "      <td>0.000000</td>\n",
       "      <td>1.100000</td>\n",
       "      <td>0.000000</td>\n",
       "    </tr>\n",
       "    <tr>\n",
       "      <th>25%</th>\n",
       "      <td>2016.000000</td>\n",
       "      <td>17357.500000</td>\n",
       "      <td>6322.000000</td>\n",
       "      <td>125.000000</td>\n",
       "      <td>45.600000</td>\n",
       "      <td>1.675000</td>\n",
       "    </tr>\n",
       "    <tr>\n",
       "      <th>50%</th>\n",
       "      <td>2018.000000</td>\n",
       "      <td>22299.000000</td>\n",
       "      <td>15369.500000</td>\n",
       "      <td>145.000000</td>\n",
       "      <td>56.500000</td>\n",
       "      <td>2.000000</td>\n",
       "    </tr>\n",
       "    <tr>\n",
       "      <th>75%</th>\n",
       "      <td>2019.000000</td>\n",
       "      <td>28706.000000</td>\n",
       "      <td>31982.250000</td>\n",
       "      <td>145.000000</td>\n",
       "      <td>64.200000</td>\n",
       "      <td>2.100000</td>\n",
       "    </tr>\n",
       "    <tr>\n",
       "      <th>max</th>\n",
       "      <td>2020.000000</td>\n",
       "      <td>65990.000000</td>\n",
       "      <td>259000.000000</td>\n",
       "      <td>580.000000</td>\n",
       "      <td>217.300000</td>\n",
       "      <td>6.200000</td>\n",
       "    </tr>\n",
       "  </tbody>\n",
       "</table>\n",
       "</div>"
      ],
      "text/plain": [
       "               year         price        mileage           tax           mpg  \\\n",
       "count  12988.000000  12988.000000   12988.000000  12988.000000  12988.000000   \n",
       "mean    2017.281876  24074.926933   22132.741146    129.689714     55.437142   \n",
       "std        2.228515   9866.224575   21196.776401     65.183076     15.025999   \n",
       "min     1970.000000    650.000000       1.000000      0.000000      1.100000   \n",
       "25%     2016.000000  17357.500000    6322.000000    125.000000     45.600000   \n",
       "50%     2018.000000  22299.000000   15369.500000    145.000000     56.500000   \n",
       "75%     2019.000000  28706.000000   31982.250000    145.000000     64.200000   \n",
       "max     2020.000000  65990.000000  259000.000000    580.000000    217.300000   \n",
       "\n",
       "         engineSize  \n",
       "count  12988.000000  \n",
       "mean       2.050901  \n",
       "std        0.532596  \n",
       "min        0.000000  \n",
       "25%        1.675000  \n",
       "50%        2.000000  \n",
       "75%        2.100000  \n",
       "max        6.200000  "
      ]
     },
     "execution_count": 37,
     "metadata": {},
     "output_type": "execute_result"
    }
   ],
   "source": [
    "dataFrame.describe()"
   ]
  },
  {
   "cell_type": "code",
   "execution_count": 38,
   "id": "66b996f7",
   "metadata": {},
   "outputs": [],
   "source": [
    "dataFrame = dataFrame[dataFrame.year != 1970]\n",
    "#190 yillarini atar"
   ]
  },
  {
   "cell_type": "code",
   "execution_count": 39,
   "id": "514a5c19",
   "metadata": {},
   "outputs": [
    {
     "data": {
      "text/plain": [
       "year\n",
       "1997     9995.000000\n",
       "1998     8605.000000\n",
       "1999     5995.000000\n",
       "2000     5743.333333\n",
       "2001     4957.900000\n",
       "2002     5820.444444\n",
       "2003     4878.000000\n",
       "2004     4727.615385\n",
       "2005     4426.111111\n",
       "2006     4036.875000\n",
       "2007     5136.045455\n",
       "2008     6967.437500\n",
       "2009     6166.764706\n",
       "2010     8308.473684\n",
       "2011     8913.459459\n",
       "2012    10845.140351\n",
       "2013    11939.842466\n",
       "2014    14042.936864\n",
       "2015    16647.822222\n",
       "2016    19223.558943\n",
       "2017    21356.280421\n",
       "2018    24800.844506\n",
       "2019    30289.524832\n",
       "2020    34234.794872\n",
       "Name: price, dtype: float64"
      ]
     },
     "execution_count": 39,
     "metadata": {},
     "output_type": "execute_result"
    }
   ],
   "source": [
    "dataFrame.groupby(\"year\").mean(numeric_only=True)[\"price\"]"
   ]
  },
  {
   "cell_type": "code",
   "execution_count": 40,
   "id": "9a10f1bb",
   "metadata": {},
   "outputs": [
    {
     "data": {
      "text/html": [
       "<div>\n",
       "<style scoped>\n",
       "    .dataframe tbody tr th:only-of-type {\n",
       "        vertical-align: middle;\n",
       "    }\n",
       "\n",
       "    .dataframe tbody tr th {\n",
       "        vertical-align: top;\n",
       "    }\n",
       "\n",
       "    .dataframe thead th {\n",
       "        text-align: right;\n",
       "    }\n",
       "</style>\n",
       "<table border=\"1\" class=\"dataframe\">\n",
       "  <thead>\n",
       "    <tr style=\"text-align: right;\">\n",
       "      <th></th>\n",
       "      <th>year</th>\n",
       "      <th>price</th>\n",
       "      <th>transmission</th>\n",
       "      <th>mileage</th>\n",
       "      <th>tax</th>\n",
       "      <th>mpg</th>\n",
       "      <th>engineSize</th>\n",
       "    </tr>\n",
       "  </thead>\n",
       "  <tbody>\n",
       "    <tr>\n",
       "      <th>6177</th>\n",
       "      <td>2019</td>\n",
       "      <td>65990</td>\n",
       "      <td>Semi-Auto</td>\n",
       "      <td>5076</td>\n",
       "      <td>150</td>\n",
       "      <td>30.4</td>\n",
       "      <td>3.0</td>\n",
       "    </tr>\n",
       "    <tr>\n",
       "      <th>5779</th>\n",
       "      <td>2020</td>\n",
       "      <td>65990</td>\n",
       "      <td>Semi-Auto</td>\n",
       "      <td>999</td>\n",
       "      <td>145</td>\n",
       "      <td>28.0</td>\n",
       "      <td>4.0</td>\n",
       "    </tr>\n",
       "    <tr>\n",
       "      <th>3191</th>\n",
       "      <td>2020</td>\n",
       "      <td>65980</td>\n",
       "      <td>Semi-Auto</td>\n",
       "      <td>3999</td>\n",
       "      <td>145</td>\n",
       "      <td>28.0</td>\n",
       "      <td>4.0</td>\n",
       "    </tr>\n",
       "    <tr>\n",
       "      <th>4727</th>\n",
       "      <td>2019</td>\n",
       "      <td>65000</td>\n",
       "      <td>Semi-Auto</td>\n",
       "      <td>3398</td>\n",
       "      <td>145</td>\n",
       "      <td>27.2</td>\n",
       "      <td>4.0</td>\n",
       "    </tr>\n",
       "    <tr>\n",
       "      <th>8814</th>\n",
       "      <td>2019</td>\n",
       "      <td>64999</td>\n",
       "      <td>Semi-Auto</td>\n",
       "      <td>119</td>\n",
       "      <td>145</td>\n",
       "      <td>40.9</td>\n",
       "      <td>3.0</td>\n",
       "    </tr>\n",
       "  </tbody>\n",
       "</table>\n",
       "</div>"
      ],
      "text/plain": [
       "      year  price transmission  mileage  tax   mpg  engineSize\n",
       "6177  2019  65990    Semi-Auto     5076  150  30.4         3.0\n",
       "5779  2020  65990    Semi-Auto      999  145  28.0         4.0\n",
       "3191  2020  65980    Semi-Auto     3999  145  28.0         4.0\n",
       "4727  2019  65000    Semi-Auto     3398  145  27.2         4.0\n",
       "8814  2019  64999    Semi-Auto      119  145  40.9         3.0"
      ]
     },
     "execution_count": 40,
     "metadata": {},
     "output_type": "execute_result"
    }
   ],
   "source": [
    "dataFrame.head()"
   ]
  },
  {
   "cell_type": "markdown",
   "id": "aa14864c",
   "metadata": {},
   "source": [
    "burda gereksiz bir transmission kolonu var.Bu sekilde regresyona sokarsan numeric bir deger olmadigi icin hata verir.Bu kolonu da sil"
   ]
  },
  {
   "cell_type": "code",
   "execution_count": 42,
   "id": "c03176d7",
   "metadata": {},
   "outputs": [],
   "source": [
    "dataFrame = dataFrame.drop(\"transmission\",axis=1)"
   ]
  },
  {
   "cell_type": "markdown",
   "id": "80491109",
   "metadata": {},
   "source": [
    "Model olusturma:\n",
    "y ulasmak istenilen sey => fiyat\n",
    "x geri kalan oznitelikler"
   ]
  },
  {
   "cell_type": "code",
   "execution_count": 43,
   "id": "666cbdad",
   "metadata": {},
   "outputs": [],
   "source": [
    "y = dataFrame[\"price\"].values\n",
    "x = dataFrame.drop(\"price\",axis=1).values"
   ]
  },
  {
   "cell_type": "code",
   "execution_count": 44,
   "id": "3fd6d802",
   "metadata": {},
   "outputs": [
    {
     "data": {
      "text/plain": [
       "array([65990, 65990, 65980, ...,  1490,  1350,   650], dtype=int64)"
      ]
     },
     "execution_count": 44,
     "metadata": {},
     "output_type": "execute_result"
    }
   ],
   "source": [
    "y"
   ]
  },
  {
   "cell_type": "code",
   "execution_count": 45,
   "id": "28939e4d",
   "metadata": {},
   "outputs": [
    {
     "data": {
      "text/plain": [
       "array([[2.01900e+03, 5.07600e+03, 1.50000e+02, 3.04000e+01, 3.00000e+00],\n",
       "       [2.02000e+03, 9.99000e+02, 1.45000e+02, 2.80000e+01, 4.00000e+00],\n",
       "       [2.02000e+03, 3.99900e+03, 1.45000e+02, 2.80000e+01, 4.00000e+00],\n",
       "       ...,\n",
       "       [2.00000e+03, 8.70000e+04, 2.65000e+02, 2.72000e+01, 3.20000e+00],\n",
       "       [2.01000e+03, 1.16126e+05, 1.45000e+02, 5.43000e+01, 2.00000e+00],\n",
       "       [2.00300e+03, 1.09090e+05, 2.35000e+02, 4.00000e+01, 1.40000e+00]])"
      ]
     },
     "execution_count": 45,
     "metadata": {},
     "output_type": "execute_result"
    }
   ],
   "source": [
    "x"
   ]
  },
  {
   "cell_type": "code",
   "execution_count": 46,
   "id": "b6cfbbc1",
   "metadata": {},
   "outputs": [],
   "source": [
    "from sklearn.model_selection import train_test_split"
   ]
  },
  {
   "cell_type": "code",
   "execution_count": 47,
   "id": "1195e245",
   "metadata": {},
   "outputs": [],
   "source": [
    "x_train, x_test, y_train, y_test = train_test_split(x,y,test_size=0.3,random_state=10)"
   ]
  },
  {
   "cell_type": "code",
   "execution_count": 48,
   "id": "3123d6cc",
   "metadata": {},
   "outputs": [
    {
     "data": {
      "text/plain": [
       "9090"
      ]
     },
     "execution_count": 48,
     "metadata": {},
     "output_type": "execute_result"
    }
   ],
   "source": [
    "len(x_train)"
   ]
  },
  {
   "cell_type": "code",
   "execution_count": 49,
   "id": "13e85183",
   "metadata": {},
   "outputs": [
    {
     "data": {
      "text/plain": [
       "3897"
      ]
     },
     "execution_count": 49,
     "metadata": {},
     "output_type": "execute_result"
    }
   ],
   "source": [
    "len(x_test)"
   ]
  },
  {
   "cell_type": "code",
   "execution_count": 50,
   "id": "d016e8eb",
   "metadata": {},
   "outputs": [],
   "source": [
    "from sklearn.preprocessing import MinMaxScaler"
   ]
  },
  {
   "cell_type": "markdown",
   "id": "dfb4a6fa",
   "metadata": {},
   "source": [
    "bu siniftan obje olusturma"
   ]
  },
  {
   "cell_type": "code",
   "execution_count": 51,
   "id": "37202244",
   "metadata": {},
   "outputs": [],
   "source": [
    "scaler = MinMaxScaler()"
   ]
  },
  {
   "cell_type": "code",
   "execution_count": 52,
   "id": "4f94f166",
   "metadata": {},
   "outputs": [],
   "source": [
    "x_train = scaler.fit_transform(x_train)"
   ]
  },
  {
   "cell_type": "code",
   "execution_count": 53,
   "id": "e33181ca",
   "metadata": {},
   "outputs": [],
   "source": [
    "x_test = scaler.transform(x_test)"
   ]
  },
  {
   "cell_type": "code",
   "execution_count": 54,
   "id": "bd24debb",
   "metadata": {},
   "outputs": [],
   "source": [
    "from tensorflow.keras.models import Sequential\n",
    "from tensorflow.keras.layers import Dense"
   ]
  },
  {
   "cell_type": "code",
   "execution_count": 55,
   "id": "53e18da5",
   "metadata": {},
   "outputs": [
    {
     "data": {
      "text/plain": [
       "(9090, 5)"
      ]
     },
     "execution_count": 55,
     "metadata": {},
     "output_type": "execute_result"
    }
   ],
   "source": [
    "x_train.shape"
   ]
  },
  {
   "cell_type": "markdown",
   "id": "eb5ec54d",
   "metadata": {},
   "source": [
    "5 tane ozelligimiz var. Katmanlarimiz 5 ya da 5 ten daha fazla olmasi mantikli"
   ]
  },
  {
   "cell_type": "code",
   "execution_count": 56,
   "id": "56bcb178",
   "metadata": {},
   "outputs": [],
   "source": [
    "model = Sequential()\n",
    "\n",
    "model.add(Dense(12,activation=\"relu\"))\n",
    "model.add(Dense(12,activation=\"relu\"))\n",
    "model.add(Dense(12,activation=\"relu\"))\n",
    "model.add(Dense(12,activation=\"relu\"))\n",
    "\n",
    "model.add(Dense(1))\n",
    "\n",
    "model.compile(optimizer=\"adam\",loss=\"mse\")\n",
    "#derin agimizi adam sectik. "
   ]
  },
  {
   "cell_type": "code",
   "execution_count": 57,
   "id": "0842fbcb",
   "metadata": {},
   "outputs": [
    {
     "name": "stdout",
     "output_type": "stream",
     "text": [
      "Epoch 1/300\n",
      "37/37 [==============================] - 1s 6ms/step - loss: 672147200.0000 - val_loss: 688108416.0000\n",
      "Epoch 2/300\n",
      "37/37 [==============================] - 0s 2ms/step - loss: 672135360.0000 - val_loss: 688088768.0000\n",
      "Epoch 3/300\n",
      "37/37 [==============================] - 0s 2ms/step - loss: 672097024.0000 - val_loss: 688015872.0000\n",
      "Epoch 4/300\n",
      "37/37 [==============================] - 0s 2ms/step - loss: 671954112.0000 - val_loss: 687743424.0000\n",
      "Epoch 5/300\n",
      "37/37 [==============================] - 0s 2ms/step - loss: 671413504.0000 - val_loss: 686761984.0000\n",
      "Epoch 6/300\n",
      "37/37 [==============================] - 0s 2ms/step - loss: 669734848.0000 - val_loss: 684046784.0000\n",
      "Epoch 7/300\n",
      "37/37 [==============================] - 0s 2ms/step - loss: 665563392.0000 - val_loss: 677736960.0000\n",
      "Epoch 8/300\n",
      "37/37 [==============================] - 0s 3ms/step - loss: 656541952.0000 - val_loss: 664908032.0000\n",
      "Epoch 9/300\n",
      "37/37 [==============================] - 0s 2ms/step - loss: 639385792.0000 - val_loss: 641846912.0000\n",
      "Epoch 10/300\n",
      "37/37 [==============================] - 0s 2ms/step - loss: 610128256.0000 - val_loss: 604263616.0000\n",
      "Epoch 11/300\n",
      "37/37 [==============================] - 0s 2ms/step - loss: 564789824.0000 - val_loss: 548544640.0000\n",
      "Epoch 12/300\n",
      "37/37 [==============================] - 0s 2ms/step - loss: 500652288.0000 - val_loss: 473233696.0000\n",
      "Epoch 13/300\n",
      "37/37 [==============================] - 0s 2ms/step - loss: 418567136.0000 - val_loss: 381939424.0000\n",
      "Epoch 14/300\n",
      "37/37 [==============================] - 0s 4ms/step - loss: 324925536.0000 - val_loss: 284911904.0000\n",
      "Epoch 15/300\n",
      "37/37 [==============================] - 0s 3ms/step - loss: 232815520.0000 - val_loss: 197523616.0000\n",
      "Epoch 16/300\n",
      "37/37 [==============================] - 0s 2ms/step - loss: 158954176.0000 - val_loss: 135836000.0000\n",
      "Epoch 17/300\n",
      "37/37 [==============================] - 0s 2ms/step - loss: 113894144.0000 - val_loss: 103883088.0000\n",
      "Epoch 18/300\n",
      "37/37 [==============================] - 0s 2ms/step - loss: 94419928.0000 - val_loss: 92621448.0000\n",
      "Epoch 19/300\n",
      "37/37 [==============================] - 0s 3ms/step - loss: 88536376.0000 - val_loss: 89334688.0000\n",
      "Epoch 20/300\n",
      "37/37 [==============================] - 0s 3ms/step - loss: 87011632.0000 - val_loss: 88198232.0000\n",
      "Epoch 21/300\n",
      "37/37 [==============================] - 0s 2ms/step - loss: 86279904.0000 - val_loss: 87552800.0000\n",
      "Epoch 22/300\n",
      "37/37 [==============================] - 0s 2ms/step - loss: 85735112.0000 - val_loss: 86979080.0000\n",
      "Epoch 23/300\n",
      "37/37 [==============================] - 0s 2ms/step - loss: 85228328.0000 - val_loss: 86506488.0000\n",
      "Epoch 24/300\n",
      "37/37 [==============================] - 0s 2ms/step - loss: 84728232.0000 - val_loss: 85991744.0000\n",
      "Epoch 25/300\n",
      "37/37 [==============================] - 0s 2ms/step - loss: 84251800.0000 - val_loss: 85530448.0000\n",
      "Epoch 26/300\n",
      "37/37 [==============================] - 0s 3ms/step - loss: 83799288.0000 - val_loss: 85073952.0000\n",
      "Epoch 27/300\n",
      "37/37 [==============================] - 0s 2ms/step - loss: 83340936.0000 - val_loss: 84625944.0000\n",
      "Epoch 28/300\n",
      "37/37 [==============================] - 0s 3ms/step - loss: 82890200.0000 - val_loss: 84196904.0000\n",
      "Epoch 29/300\n",
      "37/37 [==============================] - 0s 3ms/step - loss: 82455600.0000 - val_loss: 83779280.0000\n",
      "Epoch 30/300\n",
      "37/37 [==============================] - 0s 3ms/step - loss: 82020432.0000 - val_loss: 83323904.0000\n",
      "Epoch 31/300\n",
      "37/37 [==============================] - 0s 3ms/step - loss: 81609696.0000 - val_loss: 82907480.0000\n",
      "Epoch 32/300\n",
      "37/37 [==============================] - 0s 2ms/step - loss: 81166304.0000 - val_loss: 82465328.0000\n",
      "Epoch 33/300\n",
      "37/37 [==============================] - 0s 2ms/step - loss: 80744576.0000 - val_loss: 82065720.0000\n",
      "Epoch 34/300\n",
      "37/37 [==============================] - 0s 2ms/step - loss: 80327696.0000 - val_loss: 81647920.0000\n",
      "Epoch 35/300\n",
      "37/37 [==============================] - 0s 2ms/step - loss: 79914328.0000 - val_loss: 81223344.0000\n",
      "Epoch 36/300\n",
      "37/37 [==============================] - 0s 2ms/step - loss: 79491168.0000 - val_loss: 80831048.0000\n",
      "Epoch 37/300\n",
      "37/37 [==============================] - 0s 3ms/step - loss: 79075856.0000 - val_loss: 80428576.0000\n",
      "Epoch 38/300\n",
      "37/37 [==============================] - 0s 3ms/step - loss: 78664096.0000 - val_loss: 79989920.0000\n",
      "Epoch 39/300\n",
      "37/37 [==============================] - 0s 3ms/step - loss: 78253400.0000 - val_loss: 79598864.0000\n",
      "Epoch 40/300\n",
      "37/37 [==============================] - 0s 3ms/step - loss: 77841152.0000 - val_loss: 79217032.0000\n",
      "Epoch 41/300\n",
      "37/37 [==============================] - 0s 3ms/step - loss: 77430296.0000 - val_loss: 78793552.0000\n",
      "Epoch 42/300\n",
      "37/37 [==============================] - 0s 3ms/step - loss: 77013792.0000 - val_loss: 78370896.0000\n",
      "Epoch 43/300\n",
      "37/37 [==============================] - 0s 3ms/step - loss: 76598896.0000 - val_loss: 77967184.0000\n",
      "Epoch 44/300\n",
      "37/37 [==============================] - 0s 3ms/step - loss: 76186864.0000 - val_loss: 77568224.0000\n",
      "Epoch 45/300\n",
      "37/37 [==============================] - 0s 3ms/step - loss: 75777928.0000 - val_loss: 77145032.0000\n",
      "Epoch 46/300\n",
      "37/37 [==============================] - 0s 2ms/step - loss: 75367472.0000 - val_loss: 76728008.0000\n",
      "Epoch 47/300\n",
      "37/37 [==============================] - 0s 2ms/step - loss: 74945840.0000 - val_loss: 76307592.0000\n",
      "Epoch 48/300\n",
      "37/37 [==============================] - 0s 3ms/step - loss: 74527144.0000 - val_loss: 75895104.0000\n",
      "Epoch 49/300\n",
      "37/37 [==============================] - 0s 2ms/step - loss: 74116248.0000 - val_loss: 75500464.0000\n",
      "Epoch 50/300\n",
      "37/37 [==============================] - 0s 2ms/step - loss: 73690760.0000 - val_loss: 75067968.0000\n",
      "Epoch 51/300\n",
      "37/37 [==============================] - 0s 3ms/step - loss: 73263744.0000 - val_loss: 74658704.0000\n",
      "Epoch 52/300\n",
      "37/37 [==============================] - 0s 3ms/step - loss: 72847104.0000 - val_loss: 74259352.0000\n",
      "Epoch 53/300\n",
      "37/37 [==============================] - 0s 5ms/step - loss: 72416792.0000 - val_loss: 73804392.0000\n",
      "Epoch 54/300\n",
      "37/37 [==============================] - 0s 5ms/step - loss: 71976272.0000 - val_loss: 73395160.0000\n",
      "Epoch 55/300\n",
      "37/37 [==============================] - 0s 4ms/step - loss: 71549360.0000 - val_loss: 72956256.0000\n",
      "Epoch 56/300\n",
      "37/37 [==============================] - 0s 3ms/step - loss: 71125720.0000 - val_loss: 72504752.0000\n",
      "Epoch 57/300\n",
      "37/37 [==============================] - 0s 2ms/step - loss: 70675056.0000 - val_loss: 72108760.0000\n",
      "Epoch 58/300\n",
      "37/37 [==============================] - 0s 3ms/step - loss: 70237224.0000 - val_loss: 71652256.0000\n",
      "Epoch 59/300\n",
      "37/37 [==============================] - 0s 2ms/step - loss: 69795256.0000 - val_loss: 71220088.0000\n",
      "Epoch 60/300\n",
      "37/37 [==============================] - 0s 2ms/step - loss: 69349880.0000 - val_loss: 70781560.0000\n",
      "Epoch 61/300\n",
      "37/37 [==============================] - 0s 3ms/step - loss: 68895336.0000 - val_loss: 70340928.0000\n",
      "Epoch 62/300\n",
      "37/37 [==============================] - 0s 2ms/step - loss: 68437920.0000 - val_loss: 69869704.0000\n",
      "Epoch 63/300\n",
      "37/37 [==============================] - 0s 2ms/step - loss: 67997048.0000 - val_loss: 69406424.0000\n",
      "Epoch 64/300\n",
      "37/37 [==============================] - 0s 3ms/step - loss: 67534496.0000 - val_loss: 69007272.0000\n",
      "Epoch 65/300\n",
      "37/37 [==============================] - 0s 3ms/step - loss: 67055168.0000 - val_loss: 68498856.0000\n",
      "Epoch 66/300\n",
      "37/37 [==============================] - 0s 3ms/step - loss: 66577316.0000 - val_loss: 68026456.0000\n",
      "Epoch 67/300\n",
      "37/37 [==============================] - 0s 3ms/step - loss: 66097260.0000 - val_loss: 67551608.0000\n",
      "Epoch 68/300\n",
      "37/37 [==============================] - 0s 3ms/step - loss: 65620348.0000 - val_loss: 67058300.0000\n",
      "Epoch 69/300\n",
      "37/37 [==============================] - 0s 3ms/step - loss: 65128876.0000 - val_loss: 66573840.0000\n",
      "Epoch 70/300\n",
      "37/37 [==============================] - 0s 3ms/step - loss: 64637196.0000 - val_loss: 66078560.0000\n",
      "Epoch 71/300\n",
      "37/37 [==============================] - 0s 3ms/step - loss: 64132772.0000 - val_loss: 65564176.0000\n",
      "Epoch 72/300\n",
      "37/37 [==============================] - 0s 3ms/step - loss: 63608744.0000 - val_loss: 65101108.0000\n",
      "Epoch 73/300\n",
      "37/37 [==============================] - 0s 3ms/step - loss: 63104096.0000 - val_loss: 64567292.0000\n",
      "Epoch 74/300\n",
      "37/37 [==============================] - 0s 3ms/step - loss: 62583932.0000 - val_loss: 64044276.0000\n",
      "Epoch 75/300\n",
      "37/37 [==============================] - 0s 2ms/step - loss: 62063120.0000 - val_loss: 63524284.0000\n",
      "Epoch 76/300\n",
      "37/37 [==============================] - 0s 2ms/step - loss: 61518824.0000 - val_loss: 62985124.0000\n",
      "Epoch 77/300\n",
      "37/37 [==============================] - 0s 3ms/step - loss: 60969316.0000 - val_loss: 62432140.0000\n",
      "Epoch 78/300\n",
      "37/37 [==============================] - 0s 2ms/step - loss: 60421152.0000 - val_loss: 61868856.0000\n",
      "Epoch 79/300\n",
      "37/37 [==============================] - 0s 3ms/step - loss: 59846072.0000 - val_loss: 61333172.0000\n",
      "Epoch 80/300\n",
      "37/37 [==============================] - 0s 3ms/step - loss: 59280944.0000 - val_loss: 60740516.0000\n",
      "Epoch 81/300\n",
      "37/37 [==============================] - 0s 3ms/step - loss: 58699748.0000 - val_loss: 60164072.0000\n",
      "Epoch 82/300\n",
      "37/37 [==============================] - 0s 3ms/step - loss: 58114312.0000 - val_loss: 59565672.0000\n",
      "Epoch 83/300\n",
      "37/37 [==============================] - 0s 2ms/step - loss: 57525228.0000 - val_loss: 58955628.0000\n",
      "Epoch 84/300\n",
      "37/37 [==============================] - 0s 2ms/step - loss: 56922508.0000 - val_loss: 58353844.0000\n",
      "Epoch 85/300\n",
      "37/37 [==============================] - 0s 3ms/step - loss: 56300704.0000 - val_loss: 57715224.0000\n",
      "Epoch 86/300\n",
      "37/37 [==============================] - 0s 3ms/step - loss: 55662696.0000 - val_loss: 57118080.0000\n",
      "Epoch 87/300\n",
      "37/37 [==============================] - 0s 2ms/step - loss: 55022836.0000 - val_loss: 56450408.0000\n",
      "Epoch 88/300\n",
      "37/37 [==============================] - 0s 2ms/step - loss: 54358640.0000 - val_loss: 55808116.0000\n",
      "Epoch 89/300\n",
      "37/37 [==============================] - 0s 3ms/step - loss: 53706480.0000 - val_loss: 55121848.0000\n",
      "Epoch 90/300\n",
      "37/37 [==============================] - 0s 2ms/step - loss: 53042432.0000 - val_loss: 54460832.0000\n",
      "Epoch 91/300\n",
      "37/37 [==============================] - 0s 2ms/step - loss: 52345708.0000 - val_loss: 53747672.0000\n",
      "Epoch 92/300\n",
      "37/37 [==============================] - 0s 3ms/step - loss: 51641604.0000 - val_loss: 53038820.0000\n",
      "Epoch 93/300\n",
      "37/37 [==============================] - 0s 3ms/step - loss: 50938956.0000 - val_loss: 52318696.0000\n",
      "Epoch 94/300\n",
      "37/37 [==============================] - 0s 3ms/step - loss: 50216140.0000 - val_loss: 51600688.0000\n",
      "Epoch 95/300\n",
      "37/37 [==============================] - 0s 4ms/step - loss: 49498208.0000 - val_loss: 50903080.0000\n",
      "Epoch 96/300\n",
      "37/37 [==============================] - 0s 3ms/step - loss: 48780928.0000 - val_loss: 50118688.0000\n",
      "Epoch 97/300\n",
      "37/37 [==============================] - 0s 3ms/step - loss: 48025200.0000 - val_loss: 49353940.0000\n",
      "Epoch 98/300\n",
      "37/37 [==============================] - 0s 4ms/step - loss: 47280224.0000 - val_loss: 48593056.0000\n",
      "Epoch 99/300\n",
      "37/37 [==============================] - 0s 3ms/step - loss: 46522768.0000 - val_loss: 47823432.0000\n",
      "Epoch 100/300\n",
      "37/37 [==============================] - 0s 2ms/step - loss: 45758936.0000 - val_loss: 47037864.0000\n",
      "Epoch 101/300\n",
      "37/37 [==============================] - 0s 2ms/step - loss: 45000140.0000 - val_loss: 46271360.0000\n",
      "Epoch 102/300\n",
      "37/37 [==============================] - 0s 2ms/step - loss: 44208676.0000 - val_loss: 45482576.0000\n",
      "Epoch 103/300\n",
      "37/37 [==============================] - 0s 2ms/step - loss: 43447052.0000 - val_loss: 44668908.0000\n",
      "Epoch 104/300\n",
      "37/37 [==============================] - 0s 2ms/step - loss: 42680128.0000 - val_loss: 43886672.0000\n",
      "Epoch 105/300\n",
      "37/37 [==============================] - 0s 2ms/step - loss: 41916368.0000 - val_loss: 43111768.0000\n",
      "Epoch 106/300\n",
      "37/37 [==============================] - 0s 2ms/step - loss: 41157976.0000 - val_loss: 42336472.0000\n",
      "Epoch 107/300\n",
      "37/37 [==============================] - 0s 2ms/step - loss: 40417184.0000 - val_loss: 41563008.0000\n",
      "Epoch 108/300\n",
      "37/37 [==============================] - 0s 2ms/step - loss: 39681184.0000 - val_loss: 40809580.0000\n",
      "Epoch 109/300\n",
      "37/37 [==============================] - 0s 2ms/step - loss: 38952432.0000 - val_loss: 40073232.0000\n",
      "Epoch 110/300\n",
      "37/37 [==============================] - 0s 3ms/step - loss: 38253896.0000 - val_loss: 39350328.0000\n",
      "Epoch 111/300\n",
      "37/37 [==============================] - 0s 4ms/step - loss: 37584536.0000 - val_loss: 38627276.0000\n",
      "Epoch 112/300\n",
      "37/37 [==============================] - 0s 4ms/step - loss: 36902260.0000 - val_loss: 37933024.0000\n",
      "Epoch 113/300\n",
      "37/37 [==============================] - 0s 3ms/step - loss: 36242808.0000 - val_loss: 37270876.0000\n",
      "Epoch 114/300\n",
      "37/37 [==============================] - 0s 2ms/step - loss: 35590548.0000 - val_loss: 36631448.0000\n",
      "Epoch 115/300\n",
      "37/37 [==============================] - 0s 2ms/step - loss: 34982464.0000 - val_loss: 35977396.0000\n",
      "Epoch 116/300\n",
      "37/37 [==============================] - 0s 2ms/step - loss: 34367416.0000 - val_loss: 35355352.0000\n",
      "Epoch 117/300\n",
      "37/37 [==============================] - 0s 2ms/step - loss: 33806612.0000 - val_loss: 34740492.0000\n",
      "Epoch 118/300\n",
      "37/37 [==============================] - 0s 2ms/step - loss: 33202278.0000 - val_loss: 34186872.0000\n",
      "Epoch 119/300\n",
      "37/37 [==============================] - 0s 2ms/step - loss: 32689962.0000 - val_loss: 33613412.0000\n",
      "Epoch 120/300\n",
      "37/37 [==============================] - 0s 2ms/step - loss: 32126036.0000 - val_loss: 33090286.0000\n",
      "Epoch 121/300\n",
      "37/37 [==============================] - 0s 2ms/step - loss: 31667464.0000 - val_loss: 32646274.0000\n",
      "Epoch 122/300\n",
      "37/37 [==============================] - 0s 2ms/step - loss: 31177202.0000 - val_loss: 32111498.0000\n",
      "Epoch 123/300\n",
      "37/37 [==============================] - 0s 2ms/step - loss: 30711626.0000 - val_loss: 31666796.0000\n",
      "Epoch 124/300\n",
      "37/37 [==============================] - 0s 2ms/step - loss: 30349530.0000 - val_loss: 31217048.0000\n",
      "Epoch 125/300\n",
      "37/37 [==============================] - 0s 2ms/step - loss: 29868462.0000 - val_loss: 30807102.0000\n",
      "Epoch 126/300\n",
      "37/37 [==============================] - 0s 3ms/step - loss: 29485098.0000 - val_loss: 30406362.0000\n",
      "Epoch 127/300\n",
      "37/37 [==============================] - 0s 3ms/step - loss: 29087126.0000 - val_loss: 29992666.0000\n",
      "Epoch 128/300\n",
      "37/37 [==============================] - 0s 3ms/step - loss: 28728558.0000 - val_loss: 29606258.0000\n",
      "Epoch 129/300\n",
      "37/37 [==============================] - 0s 3ms/step - loss: 28307288.0000 - val_loss: 29212204.0000\n",
      "Epoch 130/300\n",
      "37/37 [==============================] - 0s 3ms/step - loss: 27934160.0000 - val_loss: 28837356.0000\n",
      "Epoch 131/300\n",
      "37/37 [==============================] - 0s 3ms/step - loss: 27566190.0000 - val_loss: 28466132.0000\n",
      "Epoch 132/300\n",
      "37/37 [==============================] - 0s 4ms/step - loss: 27228474.0000 - val_loss: 28109454.0000\n",
      "Epoch 133/300\n",
      "37/37 [==============================] - 0s 3ms/step - loss: 26850172.0000 - val_loss: 27759068.0000\n",
      "Epoch 134/300\n",
      "37/37 [==============================] - 0s 3ms/step - loss: 26526580.0000 - val_loss: 27443012.0000\n",
      "Epoch 135/300\n",
      "37/37 [==============================] - 0s 3ms/step - loss: 26238148.0000 - val_loss: 27161058.0000\n",
      "Epoch 136/300\n",
      "37/37 [==============================] - 0s 5ms/step - loss: 25931422.0000 - val_loss: 26901852.0000\n",
      "Epoch 137/300\n",
      "37/37 [==============================] - 0s 4ms/step - loss: 25688426.0000 - val_loss: 26704852.0000\n",
      "Epoch 138/300\n",
      "37/37 [==============================] - 0s 2ms/step - loss: 25475010.0000 - val_loss: 26490882.0000\n",
      "Epoch 139/300\n",
      "37/37 [==============================] - 0s 2ms/step - loss: 25259398.0000 - val_loss: 26287070.0000\n",
      "Epoch 140/300\n",
      "37/37 [==============================] - 0s 2ms/step - loss: 25083038.0000 - val_loss: 26192552.0000\n",
      "Epoch 141/300\n",
      "37/37 [==============================] - 0s 2ms/step - loss: 24939038.0000 - val_loss: 25963164.0000\n",
      "Epoch 142/300\n",
      "37/37 [==============================] - 0s 2ms/step - loss: 24779900.0000 - val_loss: 25882824.0000\n",
      "Epoch 143/300\n"
     ]
    },
    {
     "name": "stdout",
     "output_type": "stream",
     "text": [
      "37/37 [==============================] - 0s 2ms/step - loss: 24619440.0000 - val_loss: 25722598.0000\n",
      "Epoch 144/300\n",
      "37/37 [==============================] - 0s 3ms/step - loss: 24520456.0000 - val_loss: 25547170.0000\n",
      "Epoch 145/300\n",
      "37/37 [==============================] - 0s 3ms/step - loss: 24383356.0000 - val_loss: 25415746.0000\n",
      "Epoch 146/300\n",
      "37/37 [==============================] - 0s 2ms/step - loss: 24253320.0000 - val_loss: 25305242.0000\n",
      "Epoch 147/300\n",
      "37/37 [==============================] - 0s 2ms/step - loss: 24162478.0000 - val_loss: 25191188.0000\n",
      "Epoch 148/300\n",
      "37/37 [==============================] - 0s 3ms/step - loss: 24037756.0000 - val_loss: 25080228.0000\n",
      "Epoch 149/300\n",
      "37/37 [==============================] - 0s 3ms/step - loss: 23921520.0000 - val_loss: 24968394.0000\n",
      "Epoch 150/300\n",
      "37/37 [==============================] - 0s 3ms/step - loss: 23826414.0000 - val_loss: 24885362.0000\n",
      "Epoch 151/300\n",
      "37/37 [==============================] - 0s 2ms/step - loss: 23761152.0000 - val_loss: 24791550.0000\n",
      "Epoch 152/300\n",
      "37/37 [==============================] - 0s 3ms/step - loss: 23640638.0000 - val_loss: 24710188.0000\n",
      "Epoch 153/300\n",
      "37/37 [==============================] - 0s 3ms/step - loss: 23558592.0000 - val_loss: 24622398.0000\n",
      "Epoch 154/300\n",
      "37/37 [==============================] - 0s 2ms/step - loss: 23466058.0000 - val_loss: 24518832.0000\n",
      "Epoch 155/300\n",
      "37/37 [==============================] - 0s 2ms/step - loss: 23371852.0000 - val_loss: 24435288.0000\n",
      "Epoch 156/300\n",
      "37/37 [==============================] - 0s 3ms/step - loss: 23270738.0000 - val_loss: 24354242.0000\n",
      "Epoch 157/300\n",
      "37/37 [==============================] - 0s 4ms/step - loss: 23181782.0000 - val_loss: 24275226.0000\n",
      "Epoch 158/300\n",
      "37/37 [==============================] - 0s 2ms/step - loss: 23116836.0000 - val_loss: 24216828.0000\n",
      "Epoch 159/300\n",
      "37/37 [==============================] - 0s 2ms/step - loss: 23048350.0000 - val_loss: 24110512.0000\n",
      "Epoch 160/300\n",
      "37/37 [==============================] - 0s 2ms/step - loss: 22930722.0000 - val_loss: 24031486.0000\n",
      "Epoch 161/300\n",
      "37/37 [==============================] - 0s 2ms/step - loss: 22838648.0000 - val_loss: 23986982.0000\n",
      "Epoch 162/300\n",
      "37/37 [==============================] - 0s 2ms/step - loss: 22755452.0000 - val_loss: 23888908.0000\n",
      "Epoch 163/300\n",
      "37/37 [==============================] - 0s 2ms/step - loss: 22691714.0000 - val_loss: 23779994.0000\n",
      "Epoch 164/300\n",
      "37/37 [==============================] - 0s 2ms/step - loss: 22618034.0000 - val_loss: 23705394.0000\n",
      "Epoch 165/300\n",
      "37/37 [==============================] - 0s 2ms/step - loss: 22475016.0000 - val_loss: 23605918.0000\n",
      "Epoch 166/300\n",
      "37/37 [==============================] - 0s 2ms/step - loss: 22334524.0000 - val_loss: 23479066.0000\n",
      "Epoch 167/300\n",
      "37/37 [==============================] - 0s 2ms/step - loss: 22230844.0000 - val_loss: 23376662.0000\n",
      "Epoch 168/300\n",
      "37/37 [==============================] - 0s 2ms/step - loss: 22124126.0000 - val_loss: 23275848.0000\n",
      "Epoch 169/300\n",
      "37/37 [==============================] - 0s 2ms/step - loss: 22004470.0000 - val_loss: 23184496.0000\n",
      "Epoch 170/300\n",
      "37/37 [==============================] - 0s 2ms/step - loss: 21917392.0000 - val_loss: 23103916.0000\n",
      "Epoch 171/300\n",
      "37/37 [==============================] - 0s 2ms/step - loss: 21835580.0000 - val_loss: 23016820.0000\n",
      "Epoch 172/300\n",
      "37/37 [==============================] - 0s 2ms/step - loss: 21757448.0000 - val_loss: 22961012.0000\n",
      "Epoch 173/300\n",
      "37/37 [==============================] - 0s 2ms/step - loss: 21682710.0000 - val_loss: 22885800.0000\n",
      "Epoch 174/300\n",
      "37/37 [==============================] - 0s 2ms/step - loss: 21670010.0000 - val_loss: 22827398.0000\n",
      "Epoch 175/300\n",
      "37/37 [==============================] - 0s 2ms/step - loss: 21577096.0000 - val_loss: 22774358.0000\n",
      "Epoch 176/300\n",
      "37/37 [==============================] - 0s 2ms/step - loss: 21491092.0000 - val_loss: 22733444.0000\n",
      "Epoch 177/300\n",
      "37/37 [==============================] - 0s 2ms/step - loss: 21436782.0000 - val_loss: 22689124.0000\n",
      "Epoch 178/300\n",
      "37/37 [==============================] - 0s 2ms/step - loss: 21383200.0000 - val_loss: 22662948.0000\n",
      "Epoch 179/300\n",
      "37/37 [==============================] - 0s 2ms/step - loss: 21356678.0000 - val_loss: 22657200.0000\n",
      "Epoch 180/300\n",
      "37/37 [==============================] - 0s 2ms/step - loss: 21298322.0000 - val_loss: 22586074.0000\n",
      "Epoch 181/300\n",
      "37/37 [==============================] - 0s 3ms/step - loss: 21257256.0000 - val_loss: 22573186.0000\n",
      "Epoch 182/300\n",
      "37/37 [==============================] - 0s 2ms/step - loss: 21216088.0000 - val_loss: 22521004.0000\n",
      "Epoch 183/300\n",
      "37/37 [==============================] - 0s 2ms/step - loss: 21175078.0000 - val_loss: 22538728.0000\n",
      "Epoch 184/300\n",
      "37/37 [==============================] - 0s 3ms/step - loss: 21158746.0000 - val_loss: 22466608.0000\n",
      "Epoch 185/300\n",
      "37/37 [==============================] - 0s 3ms/step - loss: 21131384.0000 - val_loss: 22447644.0000\n",
      "Epoch 186/300\n",
      "37/37 [==============================] - 0s 3ms/step - loss: 21097830.0000 - val_loss: 22414380.0000\n",
      "Epoch 187/300\n",
      "37/37 [==============================] - 0s 2ms/step - loss: 21062330.0000 - val_loss: 22387100.0000\n",
      "Epoch 188/300\n",
      "37/37 [==============================] - 0s 2ms/step - loss: 21029436.0000 - val_loss: 22368834.0000\n",
      "Epoch 189/300\n",
      "37/37 [==============================] - 0s 2ms/step - loss: 21013126.0000 - val_loss: 22405916.0000\n",
      "Epoch 190/300\n",
      "37/37 [==============================] - 0s 2ms/step - loss: 20972408.0000 - val_loss: 22302034.0000\n",
      "Epoch 191/300\n",
      "37/37 [==============================] - 0s 2ms/step - loss: 20934900.0000 - val_loss: 22305802.0000\n",
      "Epoch 192/300\n",
      "37/37 [==============================] - 0s 2ms/step - loss: 20909030.0000 - val_loss: 22283494.0000\n",
      "Epoch 193/300\n",
      "37/37 [==============================] - 0s 2ms/step - loss: 20891792.0000 - val_loss: 22249052.0000\n",
      "Epoch 194/300\n",
      "37/37 [==============================] - 0s 2ms/step - loss: 20866162.0000 - val_loss: 22211006.0000\n",
      "Epoch 195/300\n",
      "37/37 [==============================] - 0s 2ms/step - loss: 20829168.0000 - val_loss: 22247964.0000\n",
      "Epoch 196/300\n",
      "37/37 [==============================] - 0s 3ms/step - loss: 20855336.0000 - val_loss: 22184210.0000\n",
      "Epoch 197/300\n",
      "37/37 [==============================] - 0s 3ms/step - loss: 20770462.0000 - val_loss: 22138236.0000\n",
      "Epoch 198/300\n",
      "37/37 [==============================] - 0s 2ms/step - loss: 20726918.0000 - val_loss: 22147384.0000\n",
      "Epoch 199/300\n",
      "37/37 [==============================] - 0s 3ms/step - loss: 20737574.0000 - val_loss: 22101308.0000\n",
      "Epoch 200/300\n",
      "37/37 [==============================] - 0s 3ms/step - loss: 20696508.0000 - val_loss: 22102074.0000\n",
      "Epoch 201/300\n",
      "37/37 [==============================] - 0s 3ms/step - loss: 20650520.0000 - val_loss: 22053938.0000\n",
      "Epoch 202/300\n",
      "37/37 [==============================] - 0s 3ms/step - loss: 20642846.0000 - val_loss: 22028550.0000\n",
      "Epoch 203/300\n",
      "37/37 [==============================] - 0s 2ms/step - loss: 20613092.0000 - val_loss: 22012266.0000\n",
      "Epoch 204/300\n",
      "37/37 [==============================] - 0s 3ms/step - loss: 20574384.0000 - val_loss: 21992968.0000\n",
      "Epoch 205/300\n",
      "37/37 [==============================] - 0s 3ms/step - loss: 20558116.0000 - val_loss: 21995214.0000\n",
      "Epoch 206/300\n",
      "37/37 [==============================] - 0s 3ms/step - loss: 20542236.0000 - val_loss: 21943794.0000\n",
      "Epoch 207/300\n",
      "37/37 [==============================] - 0s 3ms/step - loss: 20501686.0000 - val_loss: 21923538.0000\n",
      "Epoch 208/300\n",
      "37/37 [==============================] - 0s 3ms/step - loss: 20482494.0000 - val_loss: 21906898.0000\n",
      "Epoch 209/300\n",
      "37/37 [==============================] - 0s 3ms/step - loss: 20452750.0000 - val_loss: 21880092.0000\n",
      "Epoch 210/300\n",
      "37/37 [==============================] - 0s 3ms/step - loss: 20419106.0000 - val_loss: 21868706.0000\n",
      "Epoch 211/300\n",
      "37/37 [==============================] - 0s 3ms/step - loss: 20431834.0000 - val_loss: 21852322.0000\n",
      "Epoch 212/300\n",
      "37/37 [==============================] - 0s 3ms/step - loss: 20409086.0000 - val_loss: 21822648.0000\n",
      "Epoch 213/300\n",
      "37/37 [==============================] - 0s 2ms/step - loss: 20380594.0000 - val_loss: 21802574.0000\n",
      "Epoch 214/300\n",
      "37/37 [==============================] - 0s 3ms/step - loss: 20361014.0000 - val_loss: 21795292.0000\n",
      "Epoch 215/300\n",
      "37/37 [==============================] - 0s 3ms/step - loss: 20344982.0000 - val_loss: 21761730.0000\n",
      "Epoch 216/300\n",
      "37/37 [==============================] - 0s 3ms/step - loss: 20313838.0000 - val_loss: 21776990.0000\n",
      "Epoch 217/300\n",
      "37/37 [==============================] - 0s 2ms/step - loss: 20286096.0000 - val_loss: 21756456.0000\n",
      "Epoch 218/300\n",
      "37/37 [==============================] - 0s 3ms/step - loss: 20242928.0000 - val_loss: 21719668.0000\n",
      "Epoch 219/300\n",
      "37/37 [==============================] - 0s 2ms/step - loss: 20230224.0000 - val_loss: 21696206.0000\n",
      "Epoch 220/300\n",
      "37/37 [==============================] - 0s 4ms/step - loss: 20210714.0000 - val_loss: 21681498.0000\n",
      "Epoch 221/300\n",
      "37/37 [==============================] - 0s 3ms/step - loss: 20178862.0000 - val_loss: 21662312.0000\n",
      "Epoch 222/300\n",
      "37/37 [==============================] - 0s 2ms/step - loss: 20186644.0000 - val_loss: 21641408.0000\n",
      "Epoch 223/300\n",
      "37/37 [==============================] - 0s 2ms/step - loss: 20146198.0000 - val_loss: 21616770.0000\n",
      "Epoch 224/300\n",
      "37/37 [==============================] - 0s 3ms/step - loss: 20129978.0000 - val_loss: 21596060.0000\n",
      "Epoch 225/300\n",
      "37/37 [==============================] - 0s 3ms/step - loss: 20109618.0000 - val_loss: 21586298.0000\n",
      "Epoch 226/300\n",
      "37/37 [==============================] - 0s 4ms/step - loss: 20089620.0000 - val_loss: 21590426.0000\n",
      "Epoch 227/300\n",
      "37/37 [==============================] - 0s 3ms/step - loss: 20083700.0000 - val_loss: 21557592.0000\n",
      "Epoch 228/300\n",
      "37/37 [==============================] - 0s 2ms/step - loss: 20041670.0000 - val_loss: 21624166.0000\n",
      "Epoch 229/300\n",
      "37/37 [==============================] - 0s 3ms/step - loss: 20069378.0000 - val_loss: 21525196.0000\n",
      "Epoch 230/300\n",
      "37/37 [==============================] - 0s 3ms/step - loss: 20024066.0000 - val_loss: 21503010.0000\n",
      "Epoch 231/300\n",
      "37/37 [==============================] - 0s 2ms/step - loss: 20018032.0000 - val_loss: 21500170.0000\n",
      "Epoch 232/300\n",
      "37/37 [==============================] - 0s 2ms/step - loss: 19989080.0000 - val_loss: 21484964.0000\n",
      "Epoch 233/300\n",
      "37/37 [==============================] - 0s 2ms/step - loss: 20019460.0000 - val_loss: 21484974.0000\n",
      "Epoch 234/300\n",
      "37/37 [==============================] - 0s 3ms/step - loss: 19971362.0000 - val_loss: 21439418.0000\n",
      "Epoch 235/300\n",
      "37/37 [==============================] - 0s 3ms/step - loss: 19941610.0000 - val_loss: 21424084.0000\n",
      "Epoch 236/300\n",
      "37/37 [==============================] - 0s 3ms/step - loss: 19939478.0000 - val_loss: 21457470.0000\n",
      "Epoch 237/300\n",
      "37/37 [==============================] - 0s 3ms/step - loss: 19929838.0000 - val_loss: 21388814.0000\n",
      "Epoch 238/300\n",
      "37/37 [==============================] - 0s 4ms/step - loss: 19888666.0000 - val_loss: 21375592.0000\n",
      "Epoch 239/300\n",
      "37/37 [==============================] - 0s 3ms/step - loss: 19858420.0000 - val_loss: 21403372.0000\n",
      "Epoch 240/300\n",
      "37/37 [==============================] - 0s 2ms/step - loss: 19855710.0000 - val_loss: 21365254.0000\n",
      "Epoch 241/300\n",
      "37/37 [==============================] - 0s 2ms/step - loss: 19844080.0000 - val_loss: 21334380.0000\n",
      "Epoch 242/300\n",
      "37/37 [==============================] - 0s 3ms/step - loss: 19821522.0000 - val_loss: 21321630.0000\n",
      "Epoch 243/300\n",
      "37/37 [==============================] - 0s 3ms/step - loss: 19795932.0000 - val_loss: 21301696.0000\n",
      "Epoch 244/300\n",
      "37/37 [==============================] - 0s 2ms/step - loss: 19799796.0000 - val_loss: 21321108.0000\n",
      "Epoch 245/300\n",
      "37/37 [==============================] - 0s 3ms/step - loss: 19776464.0000 - val_loss: 21293194.0000\n",
      "Epoch 246/300\n",
      "37/37 [==============================] - 0s 3ms/step - loss: 19761620.0000 - val_loss: 21309126.0000\n",
      "Epoch 247/300\n",
      "37/37 [==============================] - 0s 2ms/step - loss: 19736012.0000 - val_loss: 21253988.0000\n",
      "Epoch 248/300\n",
      "37/37 [==============================] - 0s 2ms/step - loss: 19731526.0000 - val_loss: 21285824.0000\n",
      "Epoch 249/300\n",
      "37/37 [==============================] - 0s 2ms/step - loss: 19715530.0000 - val_loss: 21225000.0000\n",
      "Epoch 250/300\n",
      "37/37 [==============================] - 0s 2ms/step - loss: 19730974.0000 - val_loss: 21239552.0000\n",
      "Epoch 251/300\n",
      "37/37 [==============================] - 0s 2ms/step - loss: 19691154.0000 - val_loss: 21230438.0000\n",
      "Epoch 252/300\n",
      "37/37 [==============================] - 0s 2ms/step - loss: 19682516.0000 - val_loss: 21211676.0000\n",
      "Epoch 253/300\n",
      "37/37 [==============================] - 0s 2ms/step - loss: 19697082.0000 - val_loss: 21241730.0000\n",
      "Epoch 254/300\n",
      "37/37 [==============================] - 0s 3ms/step - loss: 19642682.0000 - val_loss: 21223530.0000\n",
      "Epoch 255/300\n",
      "37/37 [==============================] - 0s 3ms/step - loss: 19638670.0000 - val_loss: 21189054.0000\n",
      "Epoch 256/300\n",
      "37/37 [==============================] - 0s 2ms/step - loss: 19619942.0000 - val_loss: 21163088.0000\n",
      "Epoch 257/300\n",
      "37/37 [==============================] - 0s 2ms/step - loss: 19600086.0000 - val_loss: 21152900.0000\n",
      "Epoch 258/300\n",
      "37/37 [==============================] - 0s 2ms/step - loss: 19620190.0000 - val_loss: 21147822.0000\n",
      "Epoch 259/300\n",
      "37/37 [==============================] - 0s 2ms/step - loss: 19588558.0000 - val_loss: 21109542.0000\n",
      "Epoch 260/300\n",
      "37/37 [==============================] - 0s 2ms/step - loss: 19585204.0000 - val_loss: 21101436.0000\n",
      "Epoch 261/300\n",
      "37/37 [==============================] - 0s 3ms/step - loss: 19554160.0000 - val_loss: 21086800.0000\n",
      "Epoch 262/300\n",
      "37/37 [==============================] - 0s 2ms/step - loss: 19552092.0000 - val_loss: 21076722.0000\n",
      "Epoch 263/300\n",
      "37/37 [==============================] - 0s 2ms/step - loss: 19540344.0000 - val_loss: 21120754.0000\n",
      "Epoch 264/300\n",
      "37/37 [==============================] - 0s 2ms/step - loss: 19533484.0000 - val_loss: 21054726.0000\n",
      "Epoch 265/300\n",
      "37/37 [==============================] - 0s 2ms/step - loss: 19514356.0000 - val_loss: 21067294.0000\n",
      "Epoch 266/300\n",
      "37/37 [==============================] - 0s 2ms/step - loss: 19493644.0000 - val_loss: 21035402.0000\n",
      "Epoch 267/300\n",
      "37/37 [==============================] - 0s 2ms/step - loss: 19487890.0000 - val_loss: 21018188.0000\n",
      "Epoch 268/300\n",
      "37/37 [==============================] - 0s 2ms/step - loss: 19482316.0000 - val_loss: 21009620.0000\n",
      "Epoch 269/300\n",
      "37/37 [==============================] - 0s 2ms/step - loss: 19468528.0000 - val_loss: 21005192.0000\n",
      "Epoch 270/300\n",
      "37/37 [==============================] - 0s 2ms/step - loss: 19450154.0000 - val_loss: 20989996.0000\n",
      "Epoch 271/300\n",
      "37/37 [==============================] - 0s 2ms/step - loss: 19429590.0000 - val_loss: 20991344.0000\n",
      "Epoch 272/300\n",
      "37/37 [==============================] - 0s 2ms/step - loss: 19435144.0000 - val_loss: 20970626.0000\n",
      "Epoch 273/300\n",
      "37/37 [==============================] - 0s 2ms/step - loss: 19409978.0000 - val_loss: 20952968.0000\n",
      "Epoch 274/300\n",
      "37/37 [==============================] - 0s 2ms/step - loss: 19396848.0000 - val_loss: 20978848.0000\n",
      "Epoch 275/300\n",
      "37/37 [==============================] - 0s 2ms/step - loss: 19419890.0000 - val_loss: 20948708.0000\n",
      "Epoch 276/300\n",
      "37/37 [==============================] - 0s 2ms/step - loss: 19379134.0000 - val_loss: 20930150.0000\n",
      "Epoch 277/300\n",
      "37/37 [==============================] - 0s 2ms/step - loss: 19369256.0000 - val_loss: 20925852.0000\n",
      "Epoch 278/300\n",
      "37/37 [==============================] - 0s 2ms/step - loss: 19354940.0000 - val_loss: 20901886.0000\n",
      "Epoch 279/300\n",
      "37/37 [==============================] - 0s 2ms/step - loss: 19351648.0000 - val_loss: 20936054.0000\n",
      "Epoch 280/300\n",
      "37/37 [==============================] - 0s 2ms/step - loss: 19399706.0000 - val_loss: 20884798.0000\n",
      "Epoch 281/300\n",
      "37/37 [==============================] - 0s 2ms/step - loss: 19334580.0000 - val_loss: 20876716.0000\n",
      "Epoch 282/300\n",
      "37/37 [==============================] - 0s 3ms/step - loss: 19335064.0000 - val_loss: 20868918.0000\n",
      "Epoch 283/300\n",
      "37/37 [==============================] - 0s 2ms/step - loss: 19316348.0000 - val_loss: 20856124.0000\n",
      "Epoch 284/300\n",
      "37/37 [==============================] - 0s 2ms/step - loss: 19321948.0000 - val_loss: 20840996.0000\n",
      "Epoch 285/300\n"
     ]
    },
    {
     "name": "stdout",
     "output_type": "stream",
     "text": [
      "37/37 [==============================] - 0s 3ms/step - loss: 19291238.0000 - val_loss: 20830190.0000\n",
      "Epoch 286/300\n",
      "37/37 [==============================] - 0s 2ms/step - loss: 19279588.0000 - val_loss: 20827158.0000\n",
      "Epoch 287/300\n",
      "37/37 [==============================] - 0s 2ms/step - loss: 19278394.0000 - val_loss: 20818520.0000\n",
      "Epoch 288/300\n",
      "37/37 [==============================] - 0s 2ms/step - loss: 19283156.0000 - val_loss: 20811444.0000\n",
      "Epoch 289/300\n",
      "37/37 [==============================] - 0s 3ms/step - loss: 19286794.0000 - val_loss: 20785742.0000\n",
      "Epoch 290/300\n",
      "37/37 [==============================] - 0s 3ms/step - loss: 19247710.0000 - val_loss: 20795208.0000\n",
      "Epoch 291/300\n",
      "37/37 [==============================] - 0s 2ms/step - loss: 19236848.0000 - val_loss: 20798524.0000\n",
      "Epoch 292/300\n",
      "37/37 [==============================] - 0s 2ms/step - loss: 19265816.0000 - val_loss: 20805798.0000\n",
      "Epoch 293/300\n",
      "37/37 [==============================] - 0s 2ms/step - loss: 19243478.0000 - val_loss: 20822024.0000\n",
      "Epoch 294/300\n",
      "37/37 [==============================] - 0s 2ms/step - loss: 19211414.0000 - val_loss: 20743670.0000\n",
      "Epoch 295/300\n",
      "37/37 [==============================] - 0s 2ms/step - loss: 19215884.0000 - val_loss: 20745002.0000\n",
      "Epoch 296/300\n",
      "37/37 [==============================] - 0s 2ms/step - loss: 19190914.0000 - val_loss: 20734940.0000\n",
      "Epoch 297/300\n",
      "37/37 [==============================] - 0s 3ms/step - loss: 19207452.0000 - val_loss: 20722716.0000\n",
      "Epoch 298/300\n",
      "37/37 [==============================] - 0s 2ms/step - loss: 19175984.0000 - val_loss: 20717850.0000\n",
      "Epoch 299/300\n",
      "37/37 [==============================] - 0s 2ms/step - loss: 19219116.0000 - val_loss: 20779878.0000\n",
      "Epoch 300/300\n",
      "37/37 [==============================] - 0s 2ms/step - loss: 19179792.0000 - val_loss: 20698798.0000\n"
     ]
    },
    {
     "data": {
      "text/plain": [
       "<keras.src.callbacks.History at 0x29c8f3a1fc0>"
      ]
     },
     "execution_count": 57,
     "metadata": {},
     "output_type": "execute_result"
    }
   ],
   "source": [
    "model.fit(x=x_train, y = y_train,validation_data=(x_test,y_test),batch_size=250,epochs=300)"
   ]
  },
  {
   "cell_type": "markdown",
   "id": "4212997c",
   "metadata": {},
   "source": [
    "validation_data=>dogrulama kayitlari icin kontrol"
   ]
  },
  {
   "cell_type": "code",
   "execution_count": 58,
   "id": "0000eccf",
   "metadata": {},
   "outputs": [],
   "source": [
    "kayipVerisi = pd.DataFrame(model.history.history)"
   ]
  },
  {
   "cell_type": "code",
   "execution_count": 59,
   "id": "f88375c2",
   "metadata": {},
   "outputs": [
    {
     "data": {
      "text/html": [
       "<div>\n",
       "<style scoped>\n",
       "    .dataframe tbody tr th:only-of-type {\n",
       "        vertical-align: middle;\n",
       "    }\n",
       "\n",
       "    .dataframe tbody tr th {\n",
       "        vertical-align: top;\n",
       "    }\n",
       "\n",
       "    .dataframe thead th {\n",
       "        text-align: right;\n",
       "    }\n",
       "</style>\n",
       "<table border=\"1\" class=\"dataframe\">\n",
       "  <thead>\n",
       "    <tr style=\"text-align: right;\">\n",
       "      <th></th>\n",
       "      <th>loss</th>\n",
       "      <th>val_loss</th>\n",
       "    </tr>\n",
       "  </thead>\n",
       "  <tbody>\n",
       "    <tr>\n",
       "      <th>0</th>\n",
       "      <td>672147200.0</td>\n",
       "      <td>688108416.0</td>\n",
       "    </tr>\n",
       "    <tr>\n",
       "      <th>1</th>\n",
       "      <td>672135360.0</td>\n",
       "      <td>688088768.0</td>\n",
       "    </tr>\n",
       "    <tr>\n",
       "      <th>2</th>\n",
       "      <td>672097024.0</td>\n",
       "      <td>688015872.0</td>\n",
       "    </tr>\n",
       "    <tr>\n",
       "      <th>3</th>\n",
       "      <td>671954112.0</td>\n",
       "      <td>687743424.0</td>\n",
       "    </tr>\n",
       "    <tr>\n",
       "      <th>4</th>\n",
       "      <td>671413504.0</td>\n",
       "      <td>686761984.0</td>\n",
       "    </tr>\n",
       "  </tbody>\n",
       "</table>\n",
       "</div>"
      ],
      "text/plain": [
       "          loss     val_loss\n",
       "0  672147200.0  688108416.0\n",
       "1  672135360.0  688088768.0\n",
       "2  672097024.0  688015872.0\n",
       "3  671954112.0  687743424.0\n",
       "4  671413504.0  686761984.0"
      ]
     },
     "execution_count": 59,
     "metadata": {},
     "output_type": "execute_result"
    }
   ],
   "source": [
    "kayipVerisi.head()"
   ]
  },
  {
   "cell_type": "code",
   "execution_count": 60,
   "id": "8d1d327e",
   "metadata": {},
   "outputs": [
    {
     "data": {
      "text/plain": [
       "<Axes: >"
      ]
     },
     "execution_count": 60,
     "metadata": {},
     "output_type": "execute_result"
    },
    {
     "data": {
      "image/png": "[encoded data removed]",
      "text/plain": [
       "<Figure size 640x480 with 1 Axes>"
      ]
     },
     "metadata": {},
     "output_type": "display_data"
    }
   ],
   "source": [
    "kayipVerisi.plot()"
   ]
  },
  {
   "cell_type": "markdown",
   "id": "f7e298c9",
   "metadata": {},
   "source": [
    "kayip ve kayip dogrulama kaydi birlikte hareket ediyor mu ediyor. Bu güzel bir basari elde ettigini gosterir.Eger loss ve val_loss arasi cok ayrilirsa yukari asagi gibi bu overfitting yani ezbere girmis olabilecegi anlamina geliyor olabilir."
   ]
  },
  {
   "cell_type": "code",
   "execution_count": 61,
   "id": "b53bc5ea",
   "metadata": {},
   "outputs": [],
   "source": [
    "from sklearn.metrics import mean_squared_error, mean_absolute_error"
   ]
  },
  {
   "cell_type": "code",
   "execution_count": 62,
   "id": "9008bfdc",
   "metadata": {},
   "outputs": [
    {
     "name": "stdout",
     "output_type": "stream",
     "text": [
      "122/122 [==============================] - 0s 696us/step\n"
     ]
    }
   ],
   "source": [
    "tahminDizisi = model.predict(x_test)"
   ]
  },
  {
   "cell_type": "code",
   "execution_count": 63,
   "id": "222b01b2",
   "metadata": {},
   "outputs": [
    {
     "data": {
      "text/plain": [
       "array([[22650.992],\n",
       "       [23530.352],\n",
       "       [24613.56 ],\n",
       "       ...,\n",
       "       [25729.86 ],\n",
       "       [12118.584],\n",
       "       [24321.736]], dtype=float32)"
      ]
     },
     "execution_count": 63,
     "metadata": {},
     "output_type": "execute_result"
    }
   ],
   "source": [
    "tahminDizisi"
   ]
  },
  {
   "cell_type": "markdown",
   "id": "4d63b6d3",
   "metadata": {},
   "source": [
    "bunlarin dogru karsiligi ytest icinde "
   ]
  },
  {
   "cell_type": "code",
   "execution_count": 64,
   "id": "c4a180ac",
   "metadata": {},
   "outputs": [
    {
     "data": {
      "text/plain": [
       "3219.6815831647154"
      ]
     },
     "execution_count": 64,
     "metadata": {},
     "output_type": "execute_result"
    }
   ],
   "source": [
    "mean_absolute_error(y_test,tahminDizisi)"
   ]
  },
  {
   "cell_type": "markdown",
   "id": "074644a1",
   "metadata": {},
   "source": [
    "tahminler arasinda 3219 pound fark var"
   ]
  },
  {
   "cell_type": "code",
   "execution_count": 65,
   "id": "04c81462",
   "metadata": {},
   "outputs": [
    {
     "data": {
      "text/html": [
       "<div>\n",
       "<style scoped>\n",
       "    .dataframe tbody tr th:only-of-type {\n",
       "        vertical-align: middle;\n",
       "    }\n",
       "\n",
       "    .dataframe tbody tr th {\n",
       "        vertical-align: top;\n",
       "    }\n",
       "\n",
       "    .dataframe thead th {\n",
       "        text-align: right;\n",
       "    }\n",
       "</style>\n",
       "<table border=\"1\" class=\"dataframe\">\n",
       "  <thead>\n",
       "    <tr style=\"text-align: right;\">\n",
       "      <th></th>\n",
       "      <th>year</th>\n",
       "      <th>price</th>\n",
       "      <th>mileage</th>\n",
       "      <th>tax</th>\n",
       "      <th>mpg</th>\n",
       "      <th>engineSize</th>\n",
       "    </tr>\n",
       "  </thead>\n",
       "  <tbody>\n",
       "    <tr>\n",
       "      <th>count</th>\n",
       "      <td>12987.000000</td>\n",
       "      <td>12987.000000</td>\n",
       "      <td>12987.000000</td>\n",
       "      <td>12987.000000</td>\n",
       "      <td>12987.000000</td>\n",
       "      <td>12987.000000</td>\n",
       "    </tr>\n",
       "    <tr>\n",
       "      <th>mean</th>\n",
       "      <td>2017.285516</td>\n",
       "      <td>24074.855779</td>\n",
       "      <td>22133.367367</td>\n",
       "      <td>129.676215</td>\n",
       "      <td>55.438392</td>\n",
       "      <td>2.051059</td>\n",
       "    </tr>\n",
       "    <tr>\n",
       "      <th>std</th>\n",
       "      <td>2.189633</td>\n",
       "      <td>9866.601115</td>\n",
       "      <td>21197.472376</td>\n",
       "      <td>65.167429</td>\n",
       "      <td>15.025902</td>\n",
       "      <td>0.532313</td>\n",
       "    </tr>\n",
       "    <tr>\n",
       "      <th>min</th>\n",
       "      <td>1997.000000</td>\n",
       "      <td>650.000000</td>\n",
       "      <td>1.000000</td>\n",
       "      <td>0.000000</td>\n",
       "      <td>1.100000</td>\n",
       "      <td>0.000000</td>\n",
       "    </tr>\n",
       "    <tr>\n",
       "      <th>25%</th>\n",
       "      <td>2016.000000</td>\n",
       "      <td>17355.000000</td>\n",
       "      <td>6320.000000</td>\n",
       "      <td>125.000000</td>\n",
       "      <td>45.600000</td>\n",
       "      <td>1.700000</td>\n",
       "    </tr>\n",
       "    <tr>\n",
       "      <th>50%</th>\n",
       "      <td>2018.000000</td>\n",
       "      <td>22299.000000</td>\n",
       "      <td>15371.000000</td>\n",
       "      <td>145.000000</td>\n",
       "      <td>56.500000</td>\n",
       "      <td>2.000000</td>\n",
       "    </tr>\n",
       "    <tr>\n",
       "      <th>75%</th>\n",
       "      <td>2019.000000</td>\n",
       "      <td>28706.000000</td>\n",
       "      <td>31986.500000</td>\n",
       "      <td>145.000000</td>\n",
       "      <td>64.200000</td>\n",
       "      <td>2.100000</td>\n",
       "    </tr>\n",
       "    <tr>\n",
       "      <th>max</th>\n",
       "      <td>2020.000000</td>\n",
       "      <td>65990.000000</td>\n",
       "      <td>259000.000000</td>\n",
       "      <td>580.000000</td>\n",
       "      <td>217.300000</td>\n",
       "      <td>6.200000</td>\n",
       "    </tr>\n",
       "  </tbody>\n",
       "</table>\n",
       "</div>"
      ],
      "text/plain": [
       "               year         price        mileage           tax           mpg  \\\n",
       "count  12987.000000  12987.000000   12987.000000  12987.000000  12987.000000   \n",
       "mean    2017.285516  24074.855779   22133.367367    129.676215     55.438392   \n",
       "std        2.189633   9866.601115   21197.472376     65.167429     15.025902   \n",
       "min     1997.000000    650.000000       1.000000      0.000000      1.100000   \n",
       "25%     2016.000000  17355.000000    6320.000000    125.000000     45.600000   \n",
       "50%     2018.000000  22299.000000   15371.000000    145.000000     56.500000   \n",
       "75%     2019.000000  28706.000000   31986.500000    145.000000     64.200000   \n",
       "max     2020.000000  65990.000000  259000.000000    580.000000    217.300000   \n",
       "\n",
       "         engineSize  \n",
       "count  12987.000000  \n",
       "mean       2.051059  \n",
       "std        0.532313  \n",
       "min        0.000000  \n",
       "25%        1.700000  \n",
       "50%        2.000000  \n",
       "75%        2.100000  \n",
       "max        6.200000  "
      ]
     },
     "execution_count": 65,
     "metadata": {},
     "output_type": "execute_result"
    }
   ],
   "source": [
    "dataFrame.describe()"
   ]
  },
  {
   "cell_type": "markdown",
   "id": "1940309d",
   "metadata": {},
   "source": [
    "ortalama fiyatimiz 24.000 pound bu fiyattan 3200 pound sapabilirsin %13 luk fark var.Bu kabul edilebilir mi analiz icin kabul edilemez mi model ihtiyacina gore degerlendirirsin.Eger kabul edilemezse git ve tekrar verilen degerleri falan filan degistir. Tekrar eğit modeli"
   ]
  },
  {
   "cell_type": "code",
   "execution_count": 66,
   "id": "21d6fe9a",
   "metadata": {},
   "outputs": [
    {
     "data": {
      "text/plain": [
       "[<matplotlib.lines.Line2D at 0x29c91bd44f0>]"
      ]
     },
     "execution_count": 66,
     "metadata": {},
     "output_type": "execute_result"
    },
    {
     "data": {
      "image/png": "[encoded data removed]",
      "text/plain": [
       "<Figure size 640x480 with 1 Axes>"
      ]
     },
     "metadata": {},
     "output_type": "display_data"
    }
   ],
   "source": [
    "plt.scatter(y_test,tahminDizisi)\n",
    "plt.plot(y_test,y_test,\"g-*\")"
   ]
  },
  {
   "cell_type": "code",
   "execution_count": 67,
   "id": "389360ed",
   "metadata": {},
   "outputs": [
    {
     "data": {
      "text/plain": [
       "year           2020.0\n",
       "price         65980.0\n",
       "mileage        3999.0\n",
       "tax             145.0\n",
       "mpg              28.0\n",
       "engineSize        4.0\n",
       "Name: 3191, dtype: float64"
      ]
     },
     "execution_count": 67,
     "metadata": {},
     "output_type": "execute_result"
    }
   ],
   "source": [
    "dataFrame.iloc[2]"
   ]
  },
  {
   "cell_type": "code",
   "execution_count": 68,
   "id": "a7c6df46",
   "metadata": {},
   "outputs": [],
   "source": [
    "yeniArabaSeries = dataFrame.drop(\"price\",axis=1).iloc[2]"
   ]
  },
  {
   "cell_type": "code",
   "execution_count": 69,
   "id": "61bc991d",
   "metadata": {},
   "outputs": [
    {
     "data": {
      "text/plain": [
       "pandas.core.series.Series"
      ]
     },
     "execution_count": 69,
     "metadata": {},
     "output_type": "execute_result"
    }
   ],
   "source": [
    "type(yeniArabaSeries)\n"
   ]
  },
  {
   "cell_type": "code",
   "execution_count": 70,
   "id": "06fa820a",
   "metadata": {},
   "outputs": [],
   "source": [
    "yeniArabaSeries = scaler.transform(yeniArabaSeries.values.reshape(-1,5))"
   ]
  },
  {
   "cell_type": "markdown",
   "id": "ad074a06",
   "metadata": {},
   "source": [
    "2 boyutlu yapmak icin reshape yapman gerek"
   ]
  },
  {
   "cell_type": "code",
   "execution_count": 71,
   "id": "b7a8d789",
   "metadata": {},
   "outputs": [
    {
     "name": "stdout",
     "output_type": "stream",
     "text": [
      "1/1 [==============================] - 0s 16ms/step\n"
     ]
    },
    {
     "data": {
      "text/plain": [
       "array([[61854.133]], dtype=float32)"
      ]
     },
     "execution_count": 71,
     "metadata": {},
     "output_type": "execute_result"
    }
   ],
   "source": [
    "model.predict(yeniArabaSeries)"
   ]
  },
  {
   "cell_type": "code",
   "execution_count": 72,
   "id": "08bfdb39",
   "metadata": {},
   "outputs": [
    {
     "name": "stderr",
     "output_type": "stream",
     "text": [
      "C:\\anaconda3\\lib\\site-packages\\keras\\src\\engine\\training.py:3000: UserWarning: You are saving your model as an HDF5 file via `model.save()`. This file format is considered legacy. We recommend using instead the native Keras format, e.g. `model.save('my_model.keras')`.\n",
      "  saving_api.save_model(\n"
     ]
    }
   ],
   "source": [
    "model.save(\"araba_modeli.h5\")"
   ]
  },
  {
   "cell_type": "markdown",
   "id": "85ced5b9",
   "metadata": {},
   "source": [
    "sonradanCagirilanModel= load_model(\"araba_modeli.h5\")\n",
    "sonradanCagirilanModel.predict(yeniArabaOzellikleri)"
   ]
  }
 ],
 "metadata": {
  "kernelspec": {
   "display_name": "Python 3 (ipykernel)",
   "language": "python",
   "name": "python3"
  },
  "language_info": {
   "codemirror_mode": {
    "name": "ipython",
    "version": 3
   },
   "file_extension": ".py",
   "mimetype": "text/x-python",
   "name": "python",
   "nbconvert_exporter": "python",
   "pygments_lexer": "ipython3",
   "version": "3.10.9"
  }
 },
 "nbformat": 4,
 "nbformat_minor": 5
}
