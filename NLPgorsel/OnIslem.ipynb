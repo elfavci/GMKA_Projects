{
 "cells": [
  {
   "cell_type": "code",
   "execution_count": 1,
   "id": "0b9ba845-e180-4a45-967b-e4c292b1aed9",
   "metadata": {},
   "outputs": [],
   "source": [
    "import onislem\n",
    "import pandas as pd"
   ]
  },
  {
   "cell_type": "code",
   "execution_count": 2,
   "id": "87f0ce24-eac6-4655-ad42-11c81a557624",
   "metadata": {},
   "outputs": [],
   "source": [
    "df=pd.read_csv(\"data/nlp_gorsellestirme.csv\",index_col=0)"
   ]
  },
  {
   "cell_type": "code",
   "execution_count": 3,
   "id": "8f95d399-4d5a-4921-9880-4d49094eb871",
   "metadata": {},
   "outputs": [
    {
     "data": {
      "text/html": [
       "<div>\n",
       "<style scoped>\n",
       "    .dataframe tbody tr th:only-of-type {\n",
       "        vertical-align: middle;\n",
       "    }\n",
       "\n",
       "    .dataframe tbody tr th {\n",
       "        vertical-align: top;\n",
       "    }\n",
       "\n",
       "    .dataframe thead th {\n",
       "        text-align: right;\n",
       "    }\n",
       "</style>\n",
       "<table border=\"1\" class=\"dataframe\">\n",
       "  <thead>\n",
       "    <tr style=\"text-align: right;\">\n",
       "      <th></th>\n",
       "      <th>Text</th>\n",
       "    </tr>\n",
       "  </thead>\n",
       "  <tbody>\n",
       "    <tr>\n",
       "      <th>0</th>\n",
       "      <td>merhaba can gurler belirttiginiz urunle ilgili...</td>\n",
       "    </tr>\n",
       "    <tr>\n",
       "      <th>1</th>\n",
       "      <td>-bir mesaj atsa! *mesaj sesi* (şok ifadesi) no...</td>\n",
       "    </tr>\n",
       "    <tr>\n",
       "      <th>2</th>\n",
       "      <td>mbps fiber baglantim var ama nedense ustunu go...</td>\n",
       "    </tr>\n",
       "    <tr>\n",
       "      <th>3</th>\n",
       "      <td>fiberin hizi vatandasin cebindeki parayi nasil...</td>\n",
       "    </tr>\n",
       "    <tr>\n",
       "      <th>4</th>\n",
       "      <td>sakin vestel almayinnher urunu bozuk arkasinds...</td>\n",
       "    </tr>\n",
       "    <tr>\n",
       "      <th>...</th>\n",
       "      <td>...</td>\n",
       "    </tr>\n",
       "    <tr>\n",
       "      <th>12127</th>\n",
       "      <td>tab gosterir misiniz</td>\n",
       "    </tr>\n",
       "    <tr>\n",
       "      <th>12128</th>\n",
       "      <td>kimse seneye görüşürüz esprisi yapmıyo derken,...</td>\n",
       "    </tr>\n",
       "    <tr>\n",
       "      <th>12129</th>\n",
       "      <td>bin kisiye verecegi hizmeti tek santralden bin...</td>\n",
       "    </tr>\n",
       "    <tr>\n",
       "      <th>12130</th>\n",
       "      <td>zafer bayraminiz degil bayramimiz kizmislardir...</td>\n",
       "    </tr>\n",
       "    <tr>\n",
       "      <th>12131</th>\n",
       "      <td>baston bebek arasi ozellikle anakucagiu sekli ...</td>\n",
       "    </tr>\n",
       "  </tbody>\n",
       "</table>\n",
       "<p>12132 rows × 1 columns</p>\n",
       "</div>"
      ],
      "text/plain": [
       "                                                    Text\n",
       "0      merhaba can gurler belirttiginiz urunle ilgili...\n",
       "1      -bir mesaj atsa! *mesaj sesi* (şok ifadesi) no...\n",
       "2      mbps fiber baglantim var ama nedense ustunu go...\n",
       "3      fiberin hizi vatandasin cebindeki parayi nasil...\n",
       "4      sakin vestel almayinnher urunu bozuk arkasinds...\n",
       "...                                                  ...\n",
       "12127                               tab gosterir misiniz\n",
       "12128  kimse seneye görüşürüz esprisi yapmıyo derken,...\n",
       "12129  bin kisiye verecegi hizmeti tek santralden bin...\n",
       "12130  zafer bayraminiz degil bayramimiz kizmislardir...\n",
       "12131  baston bebek arasi ozellikle anakucagiu sekli ...\n",
       "\n",
       "[12132 rows x 1 columns]"
      ]
     },
     "execution_count": 3,
     "metadata": {},
     "output_type": "execute_result"
    }
   ],
   "source": [
    "df"
   ]
  },
  {
   "cell_type": "code",
   "execution_count": 4,
   "id": "4d659244-6855-4613-b3b8-53c5208dd404",
   "metadata": {},
   "outputs": [
    {
     "data": {
      "text/html": [
       "<div>\n",
       "<style scoped>\n",
       "    .dataframe tbody tr th:only-of-type {\n",
       "        vertical-align: middle;\n",
       "    }\n",
       "\n",
       "    .dataframe tbody tr th {\n",
       "        vertical-align: top;\n",
       "    }\n",
       "\n",
       "    .dataframe thead th {\n",
       "        text-align: right;\n",
       "    }\n",
       "</style>\n",
       "<table border=\"1\" class=\"dataframe\">\n",
       "  <thead>\n",
       "    <tr style=\"text-align: right;\">\n",
       "      <th></th>\n",
       "      <th>Text</th>\n",
       "    </tr>\n",
       "  </thead>\n",
       "  <tbody>\n",
       "    <tr>\n",
       "      <th>0</th>\n",
       "      <td>merhaba can gurler belirttiginiz urunle ilgili...</td>\n",
       "    </tr>\n",
       "    <tr>\n",
       "      <th>1</th>\n",
       "      <td>-bir mesaj atsa! *mesaj sesi* (şok ifadesi) no...</td>\n",
       "    </tr>\n",
       "    <tr>\n",
       "      <th>2</th>\n",
       "      <td>mbps fiber baglantim var ama nedense ustunu go...</td>\n",
       "    </tr>\n",
       "    <tr>\n",
       "      <th>3</th>\n",
       "      <td>fiberin hizi vatandasin cebindeki parayi nasil...</td>\n",
       "    </tr>\n",
       "    <tr>\n",
       "      <th>4</th>\n",
       "      <td>sakin vestel almayinnher urunu bozuk arkasinds...</td>\n",
       "    </tr>\n",
       "  </tbody>\n",
       "</table>\n",
       "</div>"
      ],
      "text/plain": [
       "                                                Text\n",
       "0  merhaba can gurler belirttiginiz urunle ilgili...\n",
       "1  -bir mesaj atsa! *mesaj sesi* (şok ifadesi) no...\n",
       "2  mbps fiber baglantim var ama nedense ustunu go...\n",
       "3  fiberin hizi vatandasin cebindeki parayi nasil...\n",
       "4  sakin vestel almayinnher urunu bozuk arkasinds..."
      ]
     },
     "execution_count": 4,
     "metadata": {},
     "output_type": "execute_result"
    }
   ],
   "source": [
    "df.head()"
   ]
  },
  {
   "cell_type": "code",
   "execution_count": 5,
   "id": "34dd8095-9c3c-4d39-bb79-e7a941195981",
   "metadata": {},
   "outputs": [
    {
     "data": {
      "text/html": [
       "<div>\n",
       "<style scoped>\n",
       "    .dataframe tbody tr th:only-of-type {\n",
       "        vertical-align: middle;\n",
       "    }\n",
       "\n",
       "    .dataframe tbody tr th {\n",
       "        vertical-align: top;\n",
       "    }\n",
       "\n",
       "    .dataframe thead th {\n",
       "        text-align: right;\n",
       "    }\n",
       "</style>\n",
       "<table border=\"1\" class=\"dataframe\">\n",
       "  <thead>\n",
       "    <tr style=\"text-align: right;\">\n",
       "      <th></th>\n",
       "      <th>Text</th>\n",
       "    </tr>\n",
       "  </thead>\n",
       "  <tbody>\n",
       "    <tr>\n",
       "      <th>12127</th>\n",
       "      <td>tab gosterir misiniz</td>\n",
       "    </tr>\n",
       "    <tr>\n",
       "      <th>12128</th>\n",
       "      <td>kimse seneye görüşürüz esprisi yapmıyo derken,...</td>\n",
       "    </tr>\n",
       "    <tr>\n",
       "      <th>12129</th>\n",
       "      <td>bin kisiye verecegi hizmeti tek santralden bin...</td>\n",
       "    </tr>\n",
       "    <tr>\n",
       "      <th>12130</th>\n",
       "      <td>zafer bayraminiz degil bayramimiz kizmislardir...</td>\n",
       "    </tr>\n",
       "    <tr>\n",
       "      <th>12131</th>\n",
       "      <td>baston bebek arasi ozellikle anakucagiu sekli ...</td>\n",
       "    </tr>\n",
       "  </tbody>\n",
       "</table>\n",
       "</div>"
      ],
      "text/plain": [
       "                                                    Text\n",
       "12127                               tab gosterir misiniz\n",
       "12128  kimse seneye görüşürüz esprisi yapmıyo derken,...\n",
       "12129  bin kisiye verecegi hizmeti tek santralden bin...\n",
       "12130  zafer bayraminiz degil bayramimiz kizmislardir...\n",
       "12131  baston bebek arasi ozellikle anakucagiu sekli ..."
      ]
     },
     "execution_count": 5,
     "metadata": {},
     "output_type": "execute_result"
    }
   ],
   "source": [
    "df.tail()"
   ]
  },
  {
   "cell_type": "code",
   "execution_count": 7,
   "id": "85c51b77-e8a6-40cd-9556-b96d80dc3335",
   "metadata": {},
   "outputs": [
    {
     "data": {
      "text/html": [
       "<div>\n",
       "<style scoped>\n",
       "    .dataframe tbody tr th:only-of-type {\n",
       "        vertical-align: middle;\n",
       "    }\n",
       "\n",
       "    .dataframe tbody tr th {\n",
       "        vertical-align: top;\n",
       "    }\n",
       "\n",
       "    .dataframe thead th {\n",
       "        text-align: right;\n",
       "    }\n",
       "</style>\n",
       "<table border=\"1\" class=\"dataframe\">\n",
       "  <thead>\n",
       "    <tr style=\"text-align: right;\">\n",
       "      <th></th>\n",
       "      <th>Text</th>\n",
       "      <th>Text_2</th>\n",
       "    </tr>\n",
       "  </thead>\n",
       "  <tbody>\n",
       "    <tr>\n",
       "      <th>0</th>\n",
       "      <td>merhaba can gurler belirttiginiz urunle ilgili...</td>\n",
       "      <td>[merhap, can, gurler, belirttigi, urunle, ilgi...</td>\n",
       "    </tr>\n",
       "    <tr>\n",
       "      <th>1</th>\n",
       "      <td>-bir mesaj atsa! *mesaj sesi* (şok ifadesi) no...</td>\n",
       "      <td>[bir, mesaj, atsa, mesaj, sesi, şok, ifadesi, ...</td>\n",
       "    </tr>\n",
       "    <tr>\n",
       "      <th>2</th>\n",
       "      <td>mbps fiber baglantim var ama nedense ustunu go...</td>\n",
       "      <td>[mbps, fiber, baglant, var, am, ust, goremedi,...</td>\n",
       "    </tr>\n",
       "    <tr>\n",
       "      <th>3</th>\n",
       "      <td>fiberin hizi vatandasin cebindeki parayi nasil...</td>\n",
       "      <td>[fiber, hiz, vatandas, cep, parayi, nasil, ali...</td>\n",
       "    </tr>\n",
       "    <tr>\n",
       "      <th>4</th>\n",
       "      <td>sakin vestel almayinnher urunu bozuk arkasinds...</td>\n",
       "      <td>[sak, vestel, almayinnher, ur, bozuk, arkasind...</td>\n",
       "    </tr>\n",
       "  </tbody>\n",
       "</table>\n",
       "</div>"
      ],
      "text/plain": [
       "                                                Text  \\\n",
       "0  merhaba can gurler belirttiginiz urunle ilgili...   \n",
       "1  -bir mesaj atsa! *mesaj sesi* (şok ifadesi) no...   \n",
       "2  mbps fiber baglantim var ama nedense ustunu go...   \n",
       "3  fiberin hizi vatandasin cebindeki parayi nasil...   \n",
       "4  sakin vestel almayinnher urunu bozuk arkasinds...   \n",
       "\n",
       "                                              Text_2  \n",
       "0  [merhap, can, gurler, belirttigi, urunle, ilgi...  \n",
       "1  [bir, mesaj, atsa, mesaj, sesi, şok, ifadesi, ...  \n",
       "2  [mbps, fiber, baglant, var, am, ust, goremedi,...  \n",
       "3  [fiber, hiz, vatandas, cep, parayi, nasil, ali...  \n",
       "4  [sak, vestel, almayinnher, ur, bozuk, arkasind...  "
      ]
     },
     "execution_count": 7,
     "metadata": {},
     "output_type": "execute_result"
    }
   ],
   "source": [
    "df[\"Text_2\"]=df[\"Text\"].apply(onislem.pre_processing)\n",
    "df[\"Text_2\"]=df[\"Text_2\"].apply(onislem.remove_space)\n",
    "df.head()"
   ]
  }
 ],
 "metadata": {
  "kernelspec": {
   "display_name": "Python 3 (ipykernel)",
   "language": "python",
   "name": "python3"
  },
  "language_info": {
   "codemirror_mode": {
    "name": "ipython",
    "version": 3
   },
   "file_extension": ".py",
   "mimetype": "text/x-python",
   "name": "python",
   "nbconvert_exporter": "python",
   "pygments_lexer": "ipython3",
   "version": "3.10.9"
  }
 },
 "nbformat": 4,
 "nbformat_minor": 5
}
